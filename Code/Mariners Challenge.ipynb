{
 "cells": [
  {
   "cell_type": "code",
   "execution_count": 1,
   "metadata": {},
   "outputs": [],
   "source": [
    "import numpy as np\n",
    "import pandas as pd\n",
    "import matplotlib.pyplot as plt\n",
    "import seaborn as sns\n",
    "%matplotlib inline\n",
    "\n",
    "import xgboost as xgb\n",
    "from xgboost import XGBClassifier\n",
    "\n",
    "from sklearn.model_selection import train_test_split\n",
    "from sklearn.metrics import classification_report, precision_recall_curve, auc, matthews_corrcoef, accuracy_score\n",
    "from sklearn.linear_model import LogisticRegression\n",
    "from sklearn.ensemble import RandomForestClassifier\n",
    "from sklearn.neighbors import KNeighborsClassifier\n",
    "\n",
    "from joblib import load"
   ]
  },
  {
   "cell_type": "code",
   "execution_count": 2,
   "metadata": {},
   "outputs": [
    {
     "data": {
      "text/html": [
       "<div>\n",
       "<style scoped>\n",
       "    .dataframe tbody tr th:only-of-type {\n",
       "        vertical-align: middle;\n",
       "    }\n",
       "\n",
       "    .dataframe tbody tr th {\n",
       "        vertical-align: top;\n",
       "    }\n",
       "\n",
       "    .dataframe thead th {\n",
       "        text-align: right;\n",
       "    }\n",
       "</style>\n",
       "<table border=\"1\" class=\"dataframe\">\n",
       "  <thead>\n",
       "    <tr style=\"text-align: right;\">\n",
       "      <th></th>\n",
       "      <th>date</th>\n",
       "      <th>level</th>\n",
       "      <th>pitcher_id</th>\n",
       "      <th>pitcher_side</th>\n",
       "      <th>batter_id</th>\n",
       "      <th>batter_side</th>\n",
       "      <th>stadium_id</th>\n",
       "      <th>umpire_id</th>\n",
       "      <th>catcher_id</th>\n",
       "      <th>inning</th>\n",
       "      <th>...</th>\n",
       "      <th>plate_side</th>\n",
       "      <th>zone_speed</th>\n",
       "      <th>vert_approach_angle</th>\n",
       "      <th>horz_approach_angle</th>\n",
       "      <th>x55</th>\n",
       "      <th>y55</th>\n",
       "      <th>z55</th>\n",
       "      <th>pitch_type</th>\n",
       "      <th>pitch_call</th>\n",
       "      <th>pitch_id</th>\n",
       "    </tr>\n",
       "  </thead>\n",
       "  <tbody>\n",
       "    <tr>\n",
       "      <th>0</th>\n",
       "      <td>2019-04-30</td>\n",
       "      <td>MLB</td>\n",
       "      <td>5081ca93</td>\n",
       "      <td>Right</td>\n",
       "      <td>5bf361ca</td>\n",
       "      <td>Right</td>\n",
       "      <td>402559d3</td>\n",
       "      <td>4ff102e5</td>\n",
       "      <td>65ac286a</td>\n",
       "      <td>1</td>\n",
       "      <td>...</td>\n",
       "      <td>-0.543338</td>\n",
       "      <td>88.975403</td>\n",
       "      <td>-4.33686</td>\n",
       "      <td>-1.51515</td>\n",
       "      <td>-2.10376</td>\n",
       "      <td>55</td>\n",
       "      <td>5.84545</td>\n",
       "      <td>FA</td>\n",
       "      <td>InPlay</td>\n",
       "      <td>a89b9e68</td>\n",
       "    </tr>\n",
       "    <tr>\n",
       "      <th>1</th>\n",
       "      <td>2019-04-15</td>\n",
       "      <td>MLB</td>\n",
       "      <td>0bf5d3c5</td>\n",
       "      <td>Left</td>\n",
       "      <td>7c67a595</td>\n",
       "      <td>Left</td>\n",
       "      <td>d0d69f32</td>\n",
       "      <td>51a1c7ee</td>\n",
       "      <td>5e710b9e</td>\n",
       "      <td>7</td>\n",
       "      <td>...</td>\n",
       "      <td>1.007350</td>\n",
       "      <td>81.046799</td>\n",
       "      <td>-6.67492</td>\n",
       "      <td>4.81739</td>\n",
       "      <td>3.44978</td>\n",
       "      <td>55</td>\n",
       "      <td>5.62918</td>\n",
       "      <td>FA</td>\n",
       "      <td>BallCalled</td>\n",
       "      <td>eaad389f</td>\n",
       "    </tr>\n",
       "    <tr>\n",
       "      <th>2</th>\n",
       "      <td>2019-05-26</td>\n",
       "      <td>MLB</td>\n",
       "      <td>0bf5d3c5</td>\n",
       "      <td>Left</td>\n",
       "      <td>de9d396f</td>\n",
       "      <td>Left</td>\n",
       "      <td>0c59f5af</td>\n",
       "      <td>3007964d</td>\n",
       "      <td>44924919</td>\n",
       "      <td>9</td>\n",
       "      <td>...</td>\n",
       "      <td>0.225512</td>\n",
       "      <td>80.809196</td>\n",
       "      <td>-6.34958</td>\n",
       "      <td>4.08914</td>\n",
       "      <td>3.80582</td>\n",
       "      <td>55</td>\n",
       "      <td>5.50533</td>\n",
       "      <td>FA</td>\n",
       "      <td>InPlay</td>\n",
       "      <td>c8159d29</td>\n",
       "    </tr>\n",
       "    <tr>\n",
       "      <th>3</th>\n",
       "      <td>2019-05-27</td>\n",
       "      <td>MLB</td>\n",
       "      <td>af735dc4</td>\n",
       "      <td>Left</td>\n",
       "      <td>073c2b16</td>\n",
       "      <td>Right</td>\n",
       "      <td>a3f610ed</td>\n",
       "      <td>af66b76d</td>\n",
       "      <td>b05114c7</td>\n",
       "      <td>7</td>\n",
       "      <td>...</td>\n",
       "      <td>-0.699844</td>\n",
       "      <td>75.435699</td>\n",
       "      <td>-6.59651</td>\n",
       "      <td>1.92897</td>\n",
       "      <td>2.49333</td>\n",
       "      <td>55</td>\n",
       "      <td>5.94996</td>\n",
       "      <td>SL</td>\n",
       "      <td>StrikeSwinging</td>\n",
       "      <td>e5cde642</td>\n",
       "    </tr>\n",
       "    <tr>\n",
       "      <th>4</th>\n",
       "      <td>2019-05-11</td>\n",
       "      <td>MLB</td>\n",
       "      <td>07d9667f</td>\n",
       "      <td>Right</td>\n",
       "      <td>4f03de7c</td>\n",
       "      <td>Right</td>\n",
       "      <td>402559d3</td>\n",
       "      <td>9d34b92a</td>\n",
       "      <td>016c0582</td>\n",
       "      <td>1</td>\n",
       "      <td>...</td>\n",
       "      <td>-0.848172</td>\n",
       "      <td>86.338600</td>\n",
       "      <td>-5.34015</td>\n",
       "      <td>-3.33303</td>\n",
       "      <td>-2.53086</td>\n",
       "      <td>55</td>\n",
       "      <td>6.57091</td>\n",
       "      <td>FA</td>\n",
       "      <td>StrikeSwinging</td>\n",
       "      <td>7c9410bd</td>\n",
       "    </tr>\n",
       "  </tbody>\n",
       "</table>\n",
       "<p>5 rows × 37 columns</p>\n",
       "</div>"
      ],
      "text/plain": [
       "         date level pitcher_id pitcher_side batter_id batter_side stadium_id  \\\n",
       "0  2019-04-30   MLB   5081ca93        Right  5bf361ca       Right   402559d3   \n",
       "1  2019-04-15   MLB   0bf5d3c5         Left  7c67a595        Left   d0d69f32   \n",
       "2  2019-05-26   MLB   0bf5d3c5         Left  de9d396f        Left   0c59f5af   \n",
       "3  2019-05-27   MLB   af735dc4         Left  073c2b16       Right   a3f610ed   \n",
       "4  2019-05-11   MLB   07d9667f        Right  4f03de7c       Right   402559d3   \n",
       "\n",
       "  umpire_id catcher_id  inning  ...  plate_side  zone_speed  \\\n",
       "0  4ff102e5   65ac286a       1  ...   -0.543338   88.975403   \n",
       "1  51a1c7ee   5e710b9e       7  ...    1.007350   81.046799   \n",
       "2  3007964d   44924919       9  ...    0.225512   80.809196   \n",
       "3  af66b76d   b05114c7       7  ...   -0.699844   75.435699   \n",
       "4  9d34b92a   016c0582       1  ...   -0.848172   86.338600   \n",
       "\n",
       "   vert_approach_angle  horz_approach_angle      x55  y55      z55  \\\n",
       "0             -4.33686             -1.51515 -2.10376   55  5.84545   \n",
       "1             -6.67492              4.81739  3.44978   55  5.62918   \n",
       "2             -6.34958              4.08914  3.80582   55  5.50533   \n",
       "3             -6.59651              1.92897  2.49333   55  5.94996   \n",
       "4             -5.34015             -3.33303 -2.53086   55  6.57091   \n",
       "\n",
       "   pitch_type      pitch_call  pitch_id  \n",
       "0          FA          InPlay  a89b9e68  \n",
       "1          FA      BallCalled  eaad389f  \n",
       "2          FA          InPlay  c8159d29  \n",
       "3          SL  StrikeSwinging  e5cde642  \n",
       "4          FA  StrikeSwinging  7c9410bd  \n",
       "\n",
       "[5 rows x 37 columns]"
      ]
     },
     "execution_count": 2,
     "metadata": {},
     "output_type": "execute_result"
    }
   ],
   "source": [
    "train_df = pd.read_csv('../Data/2021-train.csv')\n",
    "\n",
    "train_df.head()"
   ]
  },
  {
   "cell_type": "code",
   "execution_count": 3,
   "metadata": {},
   "outputs": [
    {
     "name": "stdout",
     "output_type": "stream",
     "text": [
      "<class 'pandas.core.frame.DataFrame'>\n",
      "RangeIndex: 1097726 entries, 0 to 1097725\n",
      "Data columns (total 37 columns):\n",
      " #   Column               Non-Null Count    Dtype  \n",
      "---  ------               --------------    -----  \n",
      " 0   date                 1097726 non-null  object \n",
      " 1   level                1097726 non-null  object \n",
      " 2   pitcher_id           1097726 non-null  object \n",
      " 3   pitcher_side         1097726 non-null  object \n",
      " 4   batter_id            1097726 non-null  object \n",
      " 5   batter_side          1097726 non-null  object \n",
      " 6   stadium_id           1097726 non-null  object \n",
      " 7   umpire_id            1097726 non-null  object \n",
      " 8   catcher_id           1097726 non-null  object \n",
      " 9   inning               1097726 non-null  int64  \n",
      " 10  top_bottom           1097726 non-null  int64  \n",
      " 11  outs                 1097594 non-null  float64\n",
      " 12  balls                1097726 non-null  int64  \n",
      " 13  strikes              1097726 non-null  int64  \n",
      " 14  release_speed        1097726 non-null  float64\n",
      " 15  vert_release_angle   1097726 non-null  float64\n",
      " 16  horz_release_angle   1097726 non-null  float64\n",
      " 17  spin_rate            1079848 non-null  float64\n",
      " 18  spin_axis            1097726 non-null  float64\n",
      " 19  tilt                 1097062 non-null  object \n",
      " 20  rel_height           1097726 non-null  float64\n",
      " 21  rel_side             1097726 non-null  float64\n",
      " 22  extension            1097726 non-null  float64\n",
      " 23  vert_break           1097726 non-null  float64\n",
      " 24  induced_vert_break   1097726 non-null  float64\n",
      " 25  horz_break           1097726 non-null  float64\n",
      " 26  plate_height         1097198 non-null  float64\n",
      " 27  plate_side           1097198 non-null  float64\n",
      " 28  zone_speed           1097726 non-null  float64\n",
      " 29  vert_approach_angle  1097726 non-null  float64\n",
      " 30  horz_approach_angle  1097726 non-null  float64\n",
      " 31  x55                  1097726 non-null  float64\n",
      " 32  y55                  1097726 non-null  int64  \n",
      " 33  z55                  1097726 non-null  float64\n",
      " 34  pitch_type           1097170 non-null  object \n",
      " 35  pitch_call           1097726 non-null  object \n",
      " 36  pitch_id             1097726 non-null  object \n",
      "dtypes: float64(19), int64(5), object(13)\n",
      "memory usage: 309.9+ MB\n"
     ]
    }
   ],
   "source": [
    "train_df.info()"
   ]
  },
  {
   "cell_type": "markdown",
   "metadata": {},
   "source": [
    "# Data Cleaning"
   ]
  },
  {
   "cell_type": "markdown",
   "metadata": {},
   "source": [
    "First let's get rid of the null values floating around in the data set. There are a total of 1,097,726 entries in the initial data set, most columns are full but some columns have null values in them. Let's first take a look at the null values in the data set and see if we can fill those."
   ]
  },
  {
   "cell_type": "code",
   "execution_count": 4,
   "metadata": {},
   "outputs": [
    {
     "data": {
      "text/plain": [
       "date                       0\n",
       "level                      0\n",
       "pitcher_id                 0\n",
       "pitcher_side               0\n",
       "batter_id                  0\n",
       "batter_side                0\n",
       "stadium_id                 0\n",
       "umpire_id                  0\n",
       "catcher_id                 0\n",
       "inning                     0\n",
       "top_bottom                 0\n",
       "outs                     132\n",
       "balls                      0\n",
       "strikes                    0\n",
       "release_speed              0\n",
       "vert_release_angle         0\n",
       "horz_release_angle         0\n",
       "spin_rate              17878\n",
       "spin_axis                  0\n",
       "tilt                     664\n",
       "rel_height                 0\n",
       "rel_side                   0\n",
       "extension                  0\n",
       "vert_break                 0\n",
       "induced_vert_break         0\n",
       "horz_break                 0\n",
       "plate_height             528\n",
       "plate_side               528\n",
       "zone_speed                 0\n",
       "vert_approach_angle        0\n",
       "horz_approach_angle        0\n",
       "x55                        0\n",
       "y55                        0\n",
       "z55                        0\n",
       "pitch_type               556\n",
       "pitch_call                 0\n",
       "pitch_id                   0\n",
       "dtype: int64"
      ]
     },
     "execution_count": 4,
     "metadata": {},
     "output_type": "execute_result"
    }
   ],
   "source": [
    "train_df.isnull().sum()"
   ]
  },
  {
   "cell_type": "markdown",
   "metadata": {},
   "source": [
    "Starting with outs, there are only 132 data points with no \"outs\" data, since we have no way of knowing how many outs there were on a given pitch, we can safely drop these data points."
   ]
  },
  {
   "cell_type": "code",
   "execution_count": 5,
   "metadata": {},
   "outputs": [],
   "source": [
    "train_df = train_df.drop(train_df[train_df['outs'].isnull()].index)"
   ]
  },
  {
   "cell_type": "markdown",
   "metadata": {},
   "source": [
    "Now let's take a look at spin rate. There are over 17,000 data points missing in this column, so dropping all the values may not be the best idea. Let's take a look at their distribution and see if we can get an idea of how the column looks."
   ]
  },
  {
   "cell_type": "code",
   "execution_count": 6,
   "metadata": {},
   "outputs": [
    {
     "data": {
      "image/png": "[encoded data removed]",
      "text/plain": [
       "<Figure size 864x648 with 1 Axes>"
      ]
     },
     "metadata": {
      "needs_background": "light"
     },
     "output_type": "display_data"
    }
   ],
   "source": [
    "plt.figure(figsize=(12,9))\n",
    "sns.histplot(train_df[train_df['spin_rate'].notnull()]['spin_rate'], bins=100, kde=False)\n",
    "plt.xlabel('Spin rate')\n",
    "plt.ylabel('Count')\n",
    "plt.title('Count of spin rates')\n",
    "plt.show()"
   ]
  },
  {
   "cell_type": "markdown",
   "metadata": {},
   "source": [
    "It looks like a normal shaped curve, which is expected from this type of data. Filling the missing values with the average would be the best way to go. That keeps the normal distribution of this variable intact and shouldn't have any adverse effect on any future modeling."
   ]
  },
  {
   "cell_type": "code",
   "execution_count": 7,
   "metadata": {},
   "outputs": [
    {
     "data": {
      "text/plain": [
       "count    1.079719e+06\n",
       "mean     2.219898e+03\n",
       "std      3.255185e+02\n",
       "min      0.000000e+00\n",
       "25%      2.083710e+03\n",
       "50%      2.248990e+03\n",
       "75%      2.403110e+03\n",
       "max      3.698960e+03\n",
       "Name: spin_rate, dtype: float64"
      ]
     },
     "execution_count": 7,
     "metadata": {},
     "output_type": "execute_result"
    }
   ],
   "source": [
    "train_df['spin_rate'].describe()"
   ]
  },
  {
   "cell_type": "code",
   "execution_count": 8,
   "metadata": {},
   "outputs": [],
   "source": [
    "train_df['spin_rate'].fillna(train_df['spin_rate'].mean(), inplace=True)"
   ]
  },
  {
   "cell_type": "markdown",
   "metadata": {},
   "source": [
    "Tilt is the next column to have missing values, but we'll take a look at that in the next part of the notebook, for now we'll move on to plate height and plate side."
   ]
  },
  {
   "cell_type": "markdown",
   "metadata": {},
   "source": [
    "Next up is plate_height and plate_side, with equal numbers of missing values, I would guess that all of the missing values have both columns missing, let's take a look."
   ]
  },
  {
   "cell_type": "code",
   "execution_count": 9,
   "metadata": {},
   "outputs": [
    {
     "data": {
      "text/html": [
       "<div>\n",
       "<style scoped>\n",
       "    .dataframe tbody tr th:only-of-type {\n",
       "        vertical-align: middle;\n",
       "    }\n",
       "\n",
       "    .dataframe tbody tr th {\n",
       "        vertical-align: top;\n",
       "    }\n",
       "\n",
       "    .dataframe thead th {\n",
       "        text-align: right;\n",
       "    }\n",
       "</style>\n",
       "<table border=\"1\" class=\"dataframe\">\n",
       "  <thead>\n",
       "    <tr style=\"text-align: right;\">\n",
       "      <th></th>\n",
       "      <th>plate_height</th>\n",
       "      <th>plate_side</th>\n",
       "    </tr>\n",
       "  </thead>\n",
       "  <tbody>\n",
       "    <tr>\n",
       "      <th>592</th>\n",
       "      <td>NaN</td>\n",
       "      <td>NaN</td>\n",
       "    </tr>\n",
       "    <tr>\n",
       "      <th>885</th>\n",
       "      <td>NaN</td>\n",
       "      <td>NaN</td>\n",
       "    </tr>\n",
       "    <tr>\n",
       "      <th>1024</th>\n",
       "      <td>NaN</td>\n",
       "      <td>NaN</td>\n",
       "    </tr>\n",
       "    <tr>\n",
       "      <th>1348</th>\n",
       "      <td>NaN</td>\n",
       "      <td>NaN</td>\n",
       "    </tr>\n",
       "    <tr>\n",
       "      <th>2645</th>\n",
       "      <td>NaN</td>\n",
       "      <td>NaN</td>\n",
       "    </tr>\n",
       "    <tr>\n",
       "      <th>...</th>\n",
       "      <td>...</td>\n",
       "      <td>...</td>\n",
       "    </tr>\n",
       "    <tr>\n",
       "      <th>1081321</th>\n",
       "      <td>NaN</td>\n",
       "      <td>NaN</td>\n",
       "    </tr>\n",
       "    <tr>\n",
       "      <th>1083016</th>\n",
       "      <td>NaN</td>\n",
       "      <td>NaN</td>\n",
       "    </tr>\n",
       "    <tr>\n",
       "      <th>1083024</th>\n",
       "      <td>NaN</td>\n",
       "      <td>NaN</td>\n",
       "    </tr>\n",
       "    <tr>\n",
       "      <th>1083177</th>\n",
       "      <td>NaN</td>\n",
       "      <td>NaN</td>\n",
       "    </tr>\n",
       "    <tr>\n",
       "      <th>1089777</th>\n",
       "      <td>NaN</td>\n",
       "      <td>NaN</td>\n",
       "    </tr>\n",
       "  </tbody>\n",
       "</table>\n",
       "<p>528 rows × 2 columns</p>\n",
       "</div>"
      ],
      "text/plain": [
       "         plate_height  plate_side\n",
       "592               NaN         NaN\n",
       "885               NaN         NaN\n",
       "1024              NaN         NaN\n",
       "1348              NaN         NaN\n",
       "2645              NaN         NaN\n",
       "...               ...         ...\n",
       "1081321           NaN         NaN\n",
       "1083016           NaN         NaN\n",
       "1083024           NaN         NaN\n",
       "1083177           NaN         NaN\n",
       "1089777           NaN         NaN\n",
       "\n",
       "[528 rows x 2 columns]"
      ]
     },
     "execution_count": 9,
     "metadata": {},
     "output_type": "execute_result"
    }
   ],
   "source": [
    "train_df[train_df['plate_height'].isnull()][['plate_height', 'plate_side']]"
   ]
  },
  {
   "cell_type": "markdown",
   "metadata": {},
   "source": [
    "Indeed that was the case. With only 528 rows of missing data, these can be filled with their mean values without adding much bias to our data set."
   ]
  },
  {
   "cell_type": "code",
   "execution_count": 10,
   "metadata": {},
   "outputs": [],
   "source": [
    "train_df['plate_height'].fillna(train_df['plate_height'].mean(), inplace=True)\n",
    "train_df['plate_side'].fillna(train_df['plate_side'].mean(), inplace=True)"
   ]
  },
  {
   "cell_type": "markdown",
   "metadata": {},
   "source": [
    "Finally, we have the pitch_type column. Let's take a look at that data and see if we can fill some missing values."
   ]
  },
  {
   "cell_type": "code",
   "execution_count": 11,
   "metadata": {},
   "outputs": [
    {
     "data": {
      "text/html": [
       "<div>\n",
       "<style scoped>\n",
       "    .dataframe tbody tr th:only-of-type {\n",
       "        vertical-align: middle;\n",
       "    }\n",
       "\n",
       "    .dataframe tbody tr th {\n",
       "        vertical-align: top;\n",
       "    }\n",
       "\n",
       "    .dataframe thead th {\n",
       "        text-align: right;\n",
       "    }\n",
       "</style>\n",
       "<table border=\"1\" class=\"dataframe\">\n",
       "  <thead>\n",
       "    <tr style=\"text-align: right;\">\n",
       "      <th></th>\n",
       "      <th>date</th>\n",
       "      <th>level</th>\n",
       "      <th>pitcher_id</th>\n",
       "      <th>pitcher_side</th>\n",
       "      <th>batter_id</th>\n",
       "      <th>batter_side</th>\n",
       "      <th>stadium_id</th>\n",
       "      <th>umpire_id</th>\n",
       "      <th>catcher_id</th>\n",
       "      <th>inning</th>\n",
       "      <th>...</th>\n",
       "      <th>plate_side</th>\n",
       "      <th>zone_speed</th>\n",
       "      <th>vert_approach_angle</th>\n",
       "      <th>horz_approach_angle</th>\n",
       "      <th>x55</th>\n",
       "      <th>y55</th>\n",
       "      <th>z55</th>\n",
       "      <th>pitch_type</th>\n",
       "      <th>pitch_call</th>\n",
       "      <th>pitch_id</th>\n",
       "    </tr>\n",
       "  </thead>\n",
       "  <tbody>\n",
       "    <tr>\n",
       "      <th>3683</th>\n",
       "      <td>2019-06-12</td>\n",
       "      <td>AAA</td>\n",
       "      <td>5da5270c</td>\n",
       "      <td>Right</td>\n",
       "      <td>7d0c379b</td>\n",
       "      <td>Right</td>\n",
       "      <td>cbf018ad</td>\n",
       "      <td>9c6cbb5e</td>\n",
       "      <td>9c6cbb5e</td>\n",
       "      <td>2</td>\n",
       "      <td>...</td>\n",
       "      <td>-1.285140</td>\n",
       "      <td>70.803398</td>\n",
       "      <td>-11.19630</td>\n",
       "      <td>-3.593610</td>\n",
       "      <td>-1.33605</td>\n",
       "      <td>55</td>\n",
       "      <td>6.17661</td>\n",
       "      <td>NaN</td>\n",
       "      <td>BallCalled</td>\n",
       "      <td>05cdd3d7</td>\n",
       "    </tr>\n",
       "    <tr>\n",
       "      <th>4297</th>\n",
       "      <td>2019-05-19</td>\n",
       "      <td>AA</td>\n",
       "      <td>3ae48ff0</td>\n",
       "      <td>Right</td>\n",
       "      <td>ffc05a5e</td>\n",
       "      <td>Left</td>\n",
       "      <td>605d1de7</td>\n",
       "      <td>9c6cbb5e</td>\n",
       "      <td>9c6cbb5e</td>\n",
       "      <td>7</td>\n",
       "      <td>...</td>\n",
       "      <td>1.380540</td>\n",
       "      <td>88.023903</td>\n",
       "      <td>-5.66636</td>\n",
       "      <td>-0.041822</td>\n",
       "      <td>-2.18288</td>\n",
       "      <td>55</td>\n",
       "      <td>6.54158</td>\n",
       "      <td>NaN</td>\n",
       "      <td>BallIntentional</td>\n",
       "      <td>7b0d1e9b</td>\n",
       "    </tr>\n",
       "    <tr>\n",
       "      <th>4318</th>\n",
       "      <td>2019-05-19</td>\n",
       "      <td>AA</td>\n",
       "      <td>3ae48ff0</td>\n",
       "      <td>Right</td>\n",
       "      <td>ffc05a5e</td>\n",
       "      <td>Left</td>\n",
       "      <td>605d1de7</td>\n",
       "      <td>9c6cbb5e</td>\n",
       "      <td>9c6cbb5e</td>\n",
       "      <td>7</td>\n",
       "      <td>...</td>\n",
       "      <td>1.967930</td>\n",
       "      <td>87.042397</td>\n",
       "      <td>-4.46674</td>\n",
       "      <td>0.826258</td>\n",
       "      <td>-2.11492</td>\n",
       "      <td>55</td>\n",
       "      <td>6.46151</td>\n",
       "      <td>NaN</td>\n",
       "      <td>BallIntentional</td>\n",
       "      <td>ccc6eb1b</td>\n",
       "    </tr>\n",
       "    <tr>\n",
       "      <th>4798</th>\n",
       "      <td>2019-06-12</td>\n",
       "      <td>AAA</td>\n",
       "      <td>5da5270c</td>\n",
       "      <td>Right</td>\n",
       "      <td>4b2e359b</td>\n",
       "      <td>Left</td>\n",
       "      <td>cbf018ad</td>\n",
       "      <td>9c6cbb5e</td>\n",
       "      <td>9c6cbb5e</td>\n",
       "      <td>1</td>\n",
       "      <td>...</td>\n",
       "      <td>-0.555812</td>\n",
       "      <td>67.851196</td>\n",
       "      <td>-11.25750</td>\n",
       "      <td>-3.008580</td>\n",
       "      <td>-1.32933</td>\n",
       "      <td>55</td>\n",
       "      <td>6.21673</td>\n",
       "      <td>NaN</td>\n",
       "      <td>StrikeSwinging</td>\n",
       "      <td>4deaa210</td>\n",
       "    </tr>\n",
       "    <tr>\n",
       "      <th>6292</th>\n",
       "      <td>2019-05-19</td>\n",
       "      <td>AA</td>\n",
       "      <td>3ae48ff0</td>\n",
       "      <td>Right</td>\n",
       "      <td>ffc05a5e</td>\n",
       "      <td>Left</td>\n",
       "      <td>605d1de7</td>\n",
       "      <td>9c6cbb5e</td>\n",
       "      <td>9c6cbb5e</td>\n",
       "      <td>7</td>\n",
       "      <td>...</td>\n",
       "      <td>1.439470</td>\n",
       "      <td>87.917503</td>\n",
       "      <td>-5.95837</td>\n",
       "      <td>0.206907</td>\n",
       "      <td>-2.06420</td>\n",
       "      <td>55</td>\n",
       "      <td>6.59596</td>\n",
       "      <td>NaN</td>\n",
       "      <td>BallIntentional</td>\n",
       "      <td>03b03578</td>\n",
       "    </tr>\n",
       "    <tr>\n",
       "      <th>...</th>\n",
       "      <td>...</td>\n",
       "      <td>...</td>\n",
       "      <td>...</td>\n",
       "      <td>...</td>\n",
       "      <td>...</td>\n",
       "      <td>...</td>\n",
       "      <td>...</td>\n",
       "      <td>...</td>\n",
       "      <td>...</td>\n",
       "      <td>...</td>\n",
       "      <td>...</td>\n",
       "      <td>...</td>\n",
       "      <td>...</td>\n",
       "      <td>...</td>\n",
       "      <td>...</td>\n",
       "      <td>...</td>\n",
       "      <td>...</td>\n",
       "      <td>...</td>\n",
       "      <td>...</td>\n",
       "      <td>...</td>\n",
       "      <td>...</td>\n",
       "    </tr>\n",
       "    <tr>\n",
       "      <th>1081813</th>\n",
       "      <td>2019-06-13</td>\n",
       "      <td>AA</td>\n",
       "      <td>92a2eea2</td>\n",
       "      <td>Right</td>\n",
       "      <td>7d715c5f</td>\n",
       "      <td>Left</td>\n",
       "      <td>425ed55c</td>\n",
       "      <td>9c6cbb5e</td>\n",
       "      <td>9c6cbb5e</td>\n",
       "      <td>7</td>\n",
       "      <td>...</td>\n",
       "      <td>0.810245</td>\n",
       "      <td>75.976501</td>\n",
       "      <td>-5.78642</td>\n",
       "      <td>4.860220</td>\n",
       "      <td>3.25380</td>\n",
       "      <td>55</td>\n",
       "      <td>5.52707</td>\n",
       "      <td>NaN</td>\n",
       "      <td>BallCalled</td>\n",
       "      <td>80f87ff5</td>\n",
       "    </tr>\n",
       "    <tr>\n",
       "      <th>1082065</th>\n",
       "      <td>2019-06-13</td>\n",
       "      <td>AA</td>\n",
       "      <td>92a2eea2</td>\n",
       "      <td>Right</td>\n",
       "      <td>400b817f</td>\n",
       "      <td>Left</td>\n",
       "      <td>425ed55c</td>\n",
       "      <td>9c6cbb5e</td>\n",
       "      <td>9c6cbb5e</td>\n",
       "      <td>7</td>\n",
       "      <td>...</td>\n",
       "      <td>0.429119</td>\n",
       "      <td>73.011101</td>\n",
       "      <td>-7.26793</td>\n",
       "      <td>5.164310</td>\n",
       "      <td>3.36949</td>\n",
       "      <td>55</td>\n",
       "      <td>5.34727</td>\n",
       "      <td>NaN</td>\n",
       "      <td>StrikeCalled</td>\n",
       "      <td>1c9996d4</td>\n",
       "    </tr>\n",
       "    <tr>\n",
       "      <th>1082825</th>\n",
       "      <td>2019-04-22</td>\n",
       "      <td>MLB</td>\n",
       "      <td>225e22e5</td>\n",
       "      <td>Left</td>\n",
       "      <td>1023df14</td>\n",
       "      <td>Left</td>\n",
       "      <td>fe6b0f40</td>\n",
       "      <td>9c6cbb5e</td>\n",
       "      <td>9c6cbb5e</td>\n",
       "      <td>8</td>\n",
       "      <td>...</td>\n",
       "      <td>1.000600</td>\n",
       "      <td>88.074600</td>\n",
       "      <td>-4.13948</td>\n",
       "      <td>-0.666996</td>\n",
       "      <td>-2.16794</td>\n",
       "      <td>55</td>\n",
       "      <td>6.08221</td>\n",
       "      <td>NaN</td>\n",
       "      <td>BallCalled</td>\n",
       "      <td>f4afe64b</td>\n",
       "    </tr>\n",
       "    <tr>\n",
       "      <th>1092799</th>\n",
       "      <td>2019-05-03</td>\n",
       "      <td>MLB</td>\n",
       "      <td>b5aab6d9</td>\n",
       "      <td>Right</td>\n",
       "      <td>d020b81d</td>\n",
       "      <td>Left</td>\n",
       "      <td>a69810e0</td>\n",
       "      <td>0b7f4ad5</td>\n",
       "      <td>f0a5d54a</td>\n",
       "      <td>6</td>\n",
       "      <td>...</td>\n",
       "      <td>1.897010</td>\n",
       "      <td>81.827202</td>\n",
       "      <td>-4.40944</td>\n",
       "      <td>1.381950</td>\n",
       "      <td>-1.29461</td>\n",
       "      <td>55</td>\n",
       "      <td>5.49077</td>\n",
       "      <td>NaN</td>\n",
       "      <td>BallCalled</td>\n",
       "      <td>c27e6e9d</td>\n",
       "    </tr>\n",
       "    <tr>\n",
       "      <th>1096293</th>\n",
       "      <td>2019-05-21</td>\n",
       "      <td>AA</td>\n",
       "      <td>ccc78dac</td>\n",
       "      <td>Left</td>\n",
       "      <td>99fbe4e9</td>\n",
       "      <td>Right</td>\n",
       "      <td>68cb2868</td>\n",
       "      <td>9c6cbb5e</td>\n",
       "      <td>9c6cbb5e</td>\n",
       "      <td>7</td>\n",
       "      <td>...</td>\n",
       "      <td>-1.601810</td>\n",
       "      <td>88.820297</td>\n",
       "      <td>-5.53763</td>\n",
       "      <td>-2.444370</td>\n",
       "      <td>-1.24981</td>\n",
       "      <td>55</td>\n",
       "      <td>6.05686</td>\n",
       "      <td>NaN</td>\n",
       "      <td>BallCalled</td>\n",
       "      <td>ae6d542d</td>\n",
       "    </tr>\n",
       "  </tbody>\n",
       "</table>\n",
       "<p>556 rows × 37 columns</p>\n",
       "</div>"
      ],
      "text/plain": [
       "               date level pitcher_id pitcher_side batter_id batter_side  \\\n",
       "3683     2019-06-12   AAA   5da5270c        Right  7d0c379b       Right   \n",
       "4297     2019-05-19    AA   3ae48ff0        Right  ffc05a5e        Left   \n",
       "4318     2019-05-19    AA   3ae48ff0        Right  ffc05a5e        Left   \n",
       "4798     2019-06-12   AAA   5da5270c        Right  4b2e359b        Left   \n",
       "6292     2019-05-19    AA   3ae48ff0        Right  ffc05a5e        Left   \n",
       "...             ...   ...        ...          ...       ...         ...   \n",
       "1081813  2019-06-13    AA   92a2eea2        Right  7d715c5f        Left   \n",
       "1082065  2019-06-13    AA   92a2eea2        Right  400b817f        Left   \n",
       "1082825  2019-04-22   MLB   225e22e5         Left  1023df14        Left   \n",
       "1092799  2019-05-03   MLB   b5aab6d9        Right  d020b81d        Left   \n",
       "1096293  2019-05-21    AA   ccc78dac         Left  99fbe4e9       Right   \n",
       "\n",
       "        stadium_id umpire_id catcher_id  inning  ...  plate_side  zone_speed  \\\n",
       "3683      cbf018ad  9c6cbb5e   9c6cbb5e       2  ...   -1.285140   70.803398   \n",
       "4297      605d1de7  9c6cbb5e   9c6cbb5e       7  ...    1.380540   88.023903   \n",
       "4318      605d1de7  9c6cbb5e   9c6cbb5e       7  ...    1.967930   87.042397   \n",
       "4798      cbf018ad  9c6cbb5e   9c6cbb5e       1  ...   -0.555812   67.851196   \n",
       "6292      605d1de7  9c6cbb5e   9c6cbb5e       7  ...    1.439470   87.917503   \n",
       "...            ...       ...        ...     ...  ...         ...         ...   \n",
       "1081813   425ed55c  9c6cbb5e   9c6cbb5e       7  ...    0.810245   75.976501   \n",
       "1082065   425ed55c  9c6cbb5e   9c6cbb5e       7  ...    0.429119   73.011101   \n",
       "1082825   fe6b0f40  9c6cbb5e   9c6cbb5e       8  ...    1.000600   88.074600   \n",
       "1092799   a69810e0  0b7f4ad5   f0a5d54a       6  ...    1.897010   81.827202   \n",
       "1096293   68cb2868  9c6cbb5e   9c6cbb5e       7  ...   -1.601810   88.820297   \n",
       "\n",
       "         vert_approach_angle  horz_approach_angle      x55  y55      z55  \\\n",
       "3683               -11.19630            -3.593610 -1.33605   55  6.17661   \n",
       "4297                -5.66636            -0.041822 -2.18288   55  6.54158   \n",
       "4318                -4.46674             0.826258 -2.11492   55  6.46151   \n",
       "4798               -11.25750            -3.008580 -1.32933   55  6.21673   \n",
       "6292                -5.95837             0.206907 -2.06420   55  6.59596   \n",
       "...                      ...                  ...      ...  ...      ...   \n",
       "1081813             -5.78642             4.860220  3.25380   55  5.52707   \n",
       "1082065             -7.26793             5.164310  3.36949   55  5.34727   \n",
       "1082825             -4.13948            -0.666996 -2.16794   55  6.08221   \n",
       "1092799             -4.40944             1.381950 -1.29461   55  5.49077   \n",
       "1096293             -5.53763            -2.444370 -1.24981   55  6.05686   \n",
       "\n",
       "         pitch_type       pitch_call  pitch_id  \n",
       "3683            NaN       BallCalled  05cdd3d7  \n",
       "4297            NaN  BallIntentional  7b0d1e9b  \n",
       "4318            NaN  BallIntentional  ccc6eb1b  \n",
       "4798            NaN   StrikeSwinging  4deaa210  \n",
       "6292            NaN  BallIntentional  03b03578  \n",
       "...             ...              ...       ...  \n",
       "1081813         NaN       BallCalled  80f87ff5  \n",
       "1082065         NaN     StrikeCalled  1c9996d4  \n",
       "1082825         NaN       BallCalled  f4afe64b  \n",
       "1092799         NaN       BallCalled  c27e6e9d  \n",
       "1096293         NaN       BallCalled  ae6d542d  \n",
       "\n",
       "[556 rows x 37 columns]"
      ]
     },
     "execution_count": 11,
     "metadata": {},
     "output_type": "execute_result"
    }
   ],
   "source": [
    "train_df[train_df['pitch_type'].isnull()]"
   ]
  },
  {
   "cell_type": "markdown",
   "metadata": {},
   "source": [
    "With only 556 rows missing, I feel comfortable dropping these instances. Plus, we have no way of knowing for sure what pitch was thrown. We could gather educated guesses based on speed, and vertical and horizontal approach angle, but even then it's tough to tell between sliders and curveballs or fastballs and changeups. Better to drop the rows to keep our data accurate than take guesses on what pitches were thrown."
   ]
  },
  {
   "cell_type": "code",
   "execution_count": 12,
   "metadata": {},
   "outputs": [],
   "source": [
    "train_df = train_df.drop(train_df[train_df['pitch_type'].isnull()].index)"
   ]
  },
  {
   "cell_type": "code",
   "execution_count": 13,
   "metadata": {},
   "outputs": [
    {
     "data": {
      "text/plain": [
       "date                     0\n",
       "level                    0\n",
       "pitcher_id               0\n",
       "pitcher_side             0\n",
       "batter_id                0\n",
       "batter_side              0\n",
       "stadium_id               0\n",
       "umpire_id                0\n",
       "catcher_id               0\n",
       "inning                   0\n",
       "top_bottom               0\n",
       "outs                     0\n",
       "balls                    0\n",
       "strikes                  0\n",
       "release_speed            0\n",
       "vert_release_angle       0\n",
       "horz_release_angle       0\n",
       "spin_rate                0\n",
       "spin_axis                0\n",
       "tilt                   663\n",
       "rel_height               0\n",
       "rel_side                 0\n",
       "extension                0\n",
       "vert_break               0\n",
       "induced_vert_break       0\n",
       "horz_break               0\n",
       "plate_height             0\n",
       "plate_side               0\n",
       "zone_speed               0\n",
       "vert_approach_angle      0\n",
       "horz_approach_angle      0\n",
       "x55                      0\n",
       "y55                      0\n",
       "z55                      0\n",
       "pitch_type               0\n",
       "pitch_call               0\n",
       "pitch_id                 0\n",
       "dtype: int64"
      ]
     },
     "execution_count": 13,
     "metadata": {},
     "output_type": "execute_result"
    }
   ],
   "source": [
    "train_df = train_df.reset_index().drop('index', axis=1)\n",
    "\n",
    "train_df.isnull().sum()"
   ]
  },
  {
   "cell_type": "code",
   "execution_count": 14,
   "metadata": {},
   "outputs": [
    {
     "data": {
      "text/html": [
       "<div>\n",
       "<style scoped>\n",
       "    .dataframe tbody tr th:only-of-type {\n",
       "        vertical-align: middle;\n",
       "    }\n",
       "\n",
       "    .dataframe tbody tr th {\n",
       "        vertical-align: top;\n",
       "    }\n",
       "\n",
       "    .dataframe thead th {\n",
       "        text-align: right;\n",
       "    }\n",
       "</style>\n",
       "<table border=\"1\" class=\"dataframe\">\n",
       "  <thead>\n",
       "    <tr style=\"text-align: right;\">\n",
       "      <th></th>\n",
       "      <th>date</th>\n",
       "      <th>level</th>\n",
       "      <th>pitcher_id</th>\n",
       "      <th>pitcher_side</th>\n",
       "      <th>batter_id</th>\n",
       "      <th>batter_side</th>\n",
       "      <th>stadium_id</th>\n",
       "      <th>umpire_id</th>\n",
       "      <th>catcher_id</th>\n",
       "      <th>inning</th>\n",
       "      <th>...</th>\n",
       "      <th>plate_side</th>\n",
       "      <th>zone_speed</th>\n",
       "      <th>vert_approach_angle</th>\n",
       "      <th>horz_approach_angle</th>\n",
       "      <th>x55</th>\n",
       "      <th>y55</th>\n",
       "      <th>z55</th>\n",
       "      <th>pitch_type</th>\n",
       "      <th>pitch_call</th>\n",
       "      <th>pitch_id</th>\n",
       "    </tr>\n",
       "  </thead>\n",
       "  <tbody>\n",
       "    <tr>\n",
       "      <th>0</th>\n",
       "      <td>2019-04-30</td>\n",
       "      <td>MLB</td>\n",
       "      <td>5081ca93</td>\n",
       "      <td>Right</td>\n",
       "      <td>5bf361ca</td>\n",
       "      <td>Right</td>\n",
       "      <td>402559d3</td>\n",
       "      <td>4ff102e5</td>\n",
       "      <td>65ac286a</td>\n",
       "      <td>1</td>\n",
       "      <td>...</td>\n",
       "      <td>-0.543338</td>\n",
       "      <td>88.975403</td>\n",
       "      <td>-4.33686</td>\n",
       "      <td>-1.51515</td>\n",
       "      <td>-2.10376</td>\n",
       "      <td>55</td>\n",
       "      <td>5.84545</td>\n",
       "      <td>FA</td>\n",
       "      <td>InPlay</td>\n",
       "      <td>a89b9e68</td>\n",
       "    </tr>\n",
       "    <tr>\n",
       "      <th>1</th>\n",
       "      <td>2019-04-15</td>\n",
       "      <td>MLB</td>\n",
       "      <td>0bf5d3c5</td>\n",
       "      <td>Left</td>\n",
       "      <td>7c67a595</td>\n",
       "      <td>Left</td>\n",
       "      <td>d0d69f32</td>\n",
       "      <td>51a1c7ee</td>\n",
       "      <td>5e710b9e</td>\n",
       "      <td>7</td>\n",
       "      <td>...</td>\n",
       "      <td>1.007350</td>\n",
       "      <td>81.046799</td>\n",
       "      <td>-6.67492</td>\n",
       "      <td>4.81739</td>\n",
       "      <td>3.44978</td>\n",
       "      <td>55</td>\n",
       "      <td>5.62918</td>\n",
       "      <td>FA</td>\n",
       "      <td>BallCalled</td>\n",
       "      <td>eaad389f</td>\n",
       "    </tr>\n",
       "    <tr>\n",
       "      <th>2</th>\n",
       "      <td>2019-05-26</td>\n",
       "      <td>MLB</td>\n",
       "      <td>0bf5d3c5</td>\n",
       "      <td>Left</td>\n",
       "      <td>de9d396f</td>\n",
       "      <td>Left</td>\n",
       "      <td>0c59f5af</td>\n",
       "      <td>3007964d</td>\n",
       "      <td>44924919</td>\n",
       "      <td>9</td>\n",
       "      <td>...</td>\n",
       "      <td>0.225512</td>\n",
       "      <td>80.809196</td>\n",
       "      <td>-6.34958</td>\n",
       "      <td>4.08914</td>\n",
       "      <td>3.80582</td>\n",
       "      <td>55</td>\n",
       "      <td>5.50533</td>\n",
       "      <td>FA</td>\n",
       "      <td>InPlay</td>\n",
       "      <td>c8159d29</td>\n",
       "    </tr>\n",
       "    <tr>\n",
       "      <th>3</th>\n",
       "      <td>2019-05-27</td>\n",
       "      <td>MLB</td>\n",
       "      <td>af735dc4</td>\n",
       "      <td>Left</td>\n",
       "      <td>073c2b16</td>\n",
       "      <td>Right</td>\n",
       "      <td>a3f610ed</td>\n",
       "      <td>af66b76d</td>\n",
       "      <td>b05114c7</td>\n",
       "      <td>7</td>\n",
       "      <td>...</td>\n",
       "      <td>-0.699844</td>\n",
       "      <td>75.435699</td>\n",
       "      <td>-6.59651</td>\n",
       "      <td>1.92897</td>\n",
       "      <td>2.49333</td>\n",
       "      <td>55</td>\n",
       "      <td>5.94996</td>\n",
       "      <td>SL</td>\n",
       "      <td>StrikeSwinging</td>\n",
       "      <td>e5cde642</td>\n",
       "    </tr>\n",
       "    <tr>\n",
       "      <th>4</th>\n",
       "      <td>2019-05-11</td>\n",
       "      <td>MLB</td>\n",
       "      <td>07d9667f</td>\n",
       "      <td>Right</td>\n",
       "      <td>4f03de7c</td>\n",
       "      <td>Right</td>\n",
       "      <td>402559d3</td>\n",
       "      <td>9d34b92a</td>\n",
       "      <td>016c0582</td>\n",
       "      <td>1</td>\n",
       "      <td>...</td>\n",
       "      <td>-0.848172</td>\n",
       "      <td>86.338600</td>\n",
       "      <td>-5.34015</td>\n",
       "      <td>-3.33303</td>\n",
       "      <td>-2.53086</td>\n",
       "      <td>55</td>\n",
       "      <td>6.57091</td>\n",
       "      <td>FA</td>\n",
       "      <td>StrikeSwinging</td>\n",
       "      <td>7c9410bd</td>\n",
       "    </tr>\n",
       "  </tbody>\n",
       "</table>\n",
       "<p>5 rows × 37 columns</p>\n",
       "</div>"
      ],
      "text/plain": [
       "         date level pitcher_id pitcher_side batter_id batter_side stadium_id  \\\n",
       "0  2019-04-30   MLB   5081ca93        Right  5bf361ca       Right   402559d3   \n",
       "1  2019-04-15   MLB   0bf5d3c5         Left  7c67a595        Left   d0d69f32   \n",
       "2  2019-05-26   MLB   0bf5d3c5         Left  de9d396f        Left   0c59f5af   \n",
       "3  2019-05-27   MLB   af735dc4         Left  073c2b16       Right   a3f610ed   \n",
       "4  2019-05-11   MLB   07d9667f        Right  4f03de7c       Right   402559d3   \n",
       "\n",
       "  umpire_id catcher_id  inning  ...  plate_side  zone_speed  \\\n",
       "0  4ff102e5   65ac286a       1  ...   -0.543338   88.975403   \n",
       "1  51a1c7ee   5e710b9e       7  ...    1.007350   81.046799   \n",
       "2  3007964d   44924919       9  ...    0.225512   80.809196   \n",
       "3  af66b76d   b05114c7       7  ...   -0.699844   75.435699   \n",
       "4  9d34b92a   016c0582       1  ...   -0.848172   86.338600   \n",
       "\n",
       "   vert_approach_angle  horz_approach_angle      x55  y55      z55  \\\n",
       "0             -4.33686             -1.51515 -2.10376   55  5.84545   \n",
       "1             -6.67492              4.81739  3.44978   55  5.62918   \n",
       "2             -6.34958              4.08914  3.80582   55  5.50533   \n",
       "3             -6.59651              1.92897  2.49333   55  5.94996   \n",
       "4             -5.34015             -3.33303 -2.53086   55  6.57091   \n",
       "\n",
       "   pitch_type      pitch_call  pitch_id  \n",
       "0          FA          InPlay  a89b9e68  \n",
       "1          FA      BallCalled  eaad389f  \n",
       "2          FA          InPlay  c8159d29  \n",
       "3          SL  StrikeSwinging  e5cde642  \n",
       "4          FA  StrikeSwinging  7c9410bd  \n",
       "\n",
       "[5 rows x 37 columns]"
      ]
     },
     "execution_count": 14,
     "metadata": {},
     "output_type": "execute_result"
    }
   ],
   "source": [
    "train_df.head()"
   ]
  },
  {
   "cell_type": "markdown",
   "metadata": {},
   "source": [
    "There we go, we have a mostly clean dataset that is nearly ready to go for our machine learning model. But first, let's create our target variable."
   ]
  },
  {
   "cell_type": "markdown",
   "metadata": {},
   "source": [
    "# Data Wrangling"
   ]
  },
  {
   "cell_type": "markdown",
   "metadata": {},
   "source": [
    "In the test set, the target variable is called \"is_swing\", and we don't have a column like that here in the training set. However, we do have a \"pitch_call\" column, which we can use to create the \"is_swing\" column. Swinging strikes, any ball batted in to play, or any foul balls are swings at the pitch, so using this, we can build the \"is_swing\" column using a simple lambda function."
   ]
  },
  {
   "cell_type": "code",
   "execution_count": 15,
   "metadata": {},
   "outputs": [
    {
     "data": {
      "text/plain": [
       "array(['InPlay', 'BallCalled', 'StrikeSwinging', 'FoulBall',\n",
       "       'StrikeCalled', 'HitByPitch'], dtype=object)"
      ]
     },
     "execution_count": 15,
     "metadata": {},
     "output_type": "execute_result"
    }
   ],
   "source": [
    "train_df['pitch_call'].unique()"
   ]
  },
  {
   "cell_type": "code",
   "execution_count": 16,
   "metadata": {},
   "outputs": [],
   "source": [
    "is_swing_list = ['InPlay', 'StrikeSwinging', 'FoulBall']\n",
    "train_df['is_swing'] = train_df['pitch_call'].apply(lambda x: 1 if x in is_swing_list else 0)"
   ]
  },
  {
   "cell_type": "markdown",
   "metadata": {},
   "source": [
    "Now we have our data set with the target variable, let's take a look at the \"is_swing\" column and its value counts."
   ]
  },
  {
   "cell_type": "code",
   "execution_count": 17,
   "metadata": {},
   "outputs": [
    {
     "data": {
      "text/plain": [
       "0    585194\n",
       "1    511844\n",
       "Name: is_swing, dtype: int64"
      ]
     },
     "execution_count": 17,
     "metadata": {},
     "output_type": "execute_result"
    }
   ],
   "source": [
    "train_df['is_swing'].value_counts()"
   ]
  },
  {
   "cell_type": "markdown",
   "metadata": {},
   "source": [
    "A pretty balanced classification problem. About 70,000 more instances of the 0 class than the 1 class, but that's not too much cause for concern. If we have any overfitting in our training data, we may have to do some resampling, but that seems unlikely."
   ]
  },
  {
   "cell_type": "markdown",
   "metadata": {},
   "source": [
    "Before we get into modeling however, there was something I noticed something strange with the \"tilt\" column. It has two different types of string data packed into the column. We'll need to fix that column to get it all into one data format."
   ]
  },
  {
   "cell_type": "code",
   "execution_count": 18,
   "metadata": {},
   "outputs": [
    {
     "data": {
      "text/plain": [
       "array(['1:15', '11:15', '11:00', '12:30', '8:15', '9:45', '11:30', '2:15',\n",
       "       '5:45', '12:45', '2:30', '1:30', '3:00', '4:45', '3:30', '10:45',\n",
       "       '10:00', '10:15', '1:00', '10:30', '1:45', '12:00', '2:00', '8:00',\n",
       "       '7:00', '4:00', '11:45', '7:15', '5:00', '6:45', '8:45', '3:15',\n",
       "       '5:15', '8:30', '7:45', '12:15', '7:30', '9:15', '9:30', '5:30',\n",
       "       '2:45', '6:30', '4:15', '9:00', '6:15', '3:45', '4:30',\n",
       "       '03:30:00.0000000', '6:00', '10:30:00.0000000', nan,\n",
       "       '05:30:00.0000000', '02:45:00.0000000', '08:30:00.0000000',\n",
       "       '07:15:00.0000000', '10:45:00.0000000', '01:30:00.0000000',\n",
       "       '11:00:00.0000000', '05:45:00.0000000', '01:00:00.0000000',\n",
       "       '02:15:00.0000000', '04:15:00.0000000', '07:00:00.0000000',\n",
       "       '12:30:00.0000000', '09:45:00.0000000', '01:45:00.0000000',\n",
       "       '11:15:00.0000000', '08:15:00.0000000', '10:00:00.0000000',\n",
       "       '12:15:00.0000000', '04:00:00.0000000', '12:45:00.0000000',\n",
       "       '09:30:00.0000000', '02:00:00.0000000', '11:30:00.0000000',\n",
       "       '10:15:00.0000000', '01:15:00.0000000', '12:00:00.0000000',\n",
       "       '07:30:00.0000000', '11:45:00.0000000', '05:15:00.0000000',\n",
       "       '04:30:00.0000000', '09:00:00.0000000', '08:00', '01:00', '02:15',\n",
       "       '01:45', '09:30', '01:15', '08:15', '07:30', '07:45', '09:15',\n",
       "       '08:45', '03:00', '03:15', '01:30', '02:00', '09:45', '07:15',\n",
       "       '02:30', '07:00', '02:45', '08:30', '09:00', '03:15:00.0000000',\n",
       "       '06:00:00.0000000', '09:15:00.0000000', '03:45:00.0000000',\n",
       "       '03:00:00.0000000', '05:00:00.0000000', '06:45:00.0000000',\n",
       "       '02:30:00.0000000', '06:45', '06:15', '05:45', '06:00', '06:30',\n",
       "       '03:30', '03:45', '08:00:00.0000000', '04:45:00.0000000',\n",
       "       '07:45:00.0000000', '08:45:00.0000000', '06:30:00.0000000',\n",
       "       '06:15:00.0000000', '05:00'], dtype=object)"
      ]
     },
     "execution_count": 18,
     "metadata": {},
     "output_type": "execute_result"
    }
   ],
   "source": [
    "train_df['tilt'].unique()"
   ]
  },
  {
   "cell_type": "markdown",
   "metadata": {},
   "source": [
    "I'm choosing to turn all of the \"03:30:00.0000000\", \"07:15:00.0000000\" into the \"3:30\", \"7:15\" format, then turn that into a seconds-from-midnight integer. This will give the model a number to look at, instead of a time-series or string object. This will be simpler for the model to analyze and could lead to better results."
   ]
  },
  {
   "cell_type": "code",
   "execution_count": 19,
   "metadata": {},
   "outputs": [
    {
     "data": {
      "text/plain": [
       "array(['1:15', '11:15', '11:00', '12:30', '8:15', '9:45', '11:30', '2:15',\n",
       "       '5:45', '12:45', '2:30', '1:30', '3:00', '4:45', '3:30', '10:45',\n",
       "       '10:00', '10:15', '1:00', '10:30', '1:45', '12:00', '2:00', '8:00',\n",
       "       '7:00', '4:00', '11:45', '7:15', '5:00', '6:45', '8:45', '3:15',\n",
       "       '5:15', '8:30', '7:45', '12:15', '7:30', '9:15', '9:30', '5:30',\n",
       "       '2:45', '6:30', '4:15', '9:00', '6:15', '3:45', '4:30', '03:30',\n",
       "       '6:00', nan, '05:30', '02:45', '08:30', '07:15', '01:30', '05:45',\n",
       "       '01:00', '02:15', '04:15', '07:00', '09:45', '01:45', '08:15',\n",
       "       '04:00', '09:30', '02:00', '01:15', '07:30', '05:15', '04:30',\n",
       "       '09:00', '08:00', '07:45', '09:15', '08:45', '03:00', '03:15',\n",
       "       '02:30', '06:00', '03:45', '05:00', '06:45', '06:15', '06:30',\n",
       "       '04:45'], dtype=object)"
      ]
     },
     "execution_count": 19,
     "metadata": {},
     "output_type": "execute_result"
    }
   ],
   "source": [
    "train_df['tilt'] = train_df['tilt'].apply(lambda x: x[0:5] if pd.notnull(x) and len(x) > 5 else x)\n",
    "train_df['tilt'].unique()"
   ]
  },
  {
   "cell_type": "code",
   "execution_count": 20,
   "metadata": {},
   "outputs": [
    {
     "data": {
      "text/plain": [
       "array([ 4500., 40500., 39600., 45000., 29700., 35100., 41400.,  8100.,\n",
       "       20700., 45900.,  9000.,  5400., 10800., 17100., 12600., 38700.,\n",
       "       36000., 36900.,  3600., 37800.,  6300., 43200.,  7200., 28800.,\n",
       "       25200., 14400., 42300., 26100., 18000., 24300., 31500., 11700.,\n",
       "       18900., 30600., 27900., 44100., 27000., 33300., 34200., 19800.,\n",
       "        9900., 23400., 15300., 32400., 22500., 13500., 16200., 21600.,\n",
       "          nan])"
      ]
     },
     "execution_count": 20,
     "metadata": {},
     "output_type": "execute_result"
    }
   ],
   "source": [
    "train_df['tilt'] = train_df['tilt'].map(lambda x: sum(a*int(t) for a, t in zip([3600, 60], x.split(':'))) if pd.notnull(x) and ':' in x \\\n",
    "                                        else (int(x[:-5]) if pd.notnull(x) else x))\n",
    "\n",
    "train_df['tilt'].unique()"
   ]
  },
  {
   "cell_type": "markdown",
   "metadata": {},
   "source": [
    "We got tilt figured out, we can now impute the missing values in this column to get a clean data set."
   ]
  },
  {
   "cell_type": "code",
   "execution_count": 21,
   "metadata": {},
   "outputs": [],
   "source": [
    "train_df['tilt'].fillna(train_df['tilt'].median(), inplace=True)"
   ]
  },
  {
   "cell_type": "code",
   "execution_count": 22,
   "metadata": {},
   "outputs": [
    {
     "name": "stdout",
     "output_type": "stream",
     "text": [
      "<class 'pandas.core.frame.DataFrame'>\n",
      "RangeIndex: 1097038 entries, 0 to 1097037\n",
      "Data columns (total 38 columns):\n",
      " #   Column               Non-Null Count    Dtype  \n",
      "---  ------               --------------    -----  \n",
      " 0   date                 1097038 non-null  object \n",
      " 1   level                1097038 non-null  object \n",
      " 2   pitcher_id           1097038 non-null  object \n",
      " 3   pitcher_side         1097038 non-null  object \n",
      " 4   batter_id            1097038 non-null  object \n",
      " 5   batter_side          1097038 non-null  object \n",
      " 6   stadium_id           1097038 non-null  object \n",
      " 7   umpire_id            1097038 non-null  object \n",
      " 8   catcher_id           1097038 non-null  object \n",
      " 9   inning               1097038 non-null  int64  \n",
      " 10  top_bottom           1097038 non-null  int64  \n",
      " 11  outs                 1097038 non-null  float64\n",
      " 12  balls                1097038 non-null  int64  \n",
      " 13  strikes              1097038 non-null  int64  \n",
      " 14  release_speed        1097038 non-null  float64\n",
      " 15  vert_release_angle   1097038 non-null  float64\n",
      " 16  horz_release_angle   1097038 non-null  float64\n",
      " 17  spin_rate            1097038 non-null  float64\n",
      " 18  spin_axis            1097038 non-null  float64\n",
      " 19  tilt                 1097038 non-null  float64\n",
      " 20  rel_height           1097038 non-null  float64\n",
      " 21  rel_side             1097038 non-null  float64\n",
      " 22  extension            1097038 non-null  float64\n",
      " 23  vert_break           1097038 non-null  float64\n",
      " 24  induced_vert_break   1097038 non-null  float64\n",
      " 25  horz_break           1097038 non-null  float64\n",
      " 26  plate_height         1097038 non-null  float64\n",
      " 27  plate_side           1097038 non-null  float64\n",
      " 28  zone_speed           1097038 non-null  float64\n",
      " 29  vert_approach_angle  1097038 non-null  float64\n",
      " 30  horz_approach_angle  1097038 non-null  float64\n",
      " 31  x55                  1097038 non-null  float64\n",
      " 32  y55                  1097038 non-null  int64  \n",
      " 33  z55                  1097038 non-null  float64\n",
      " 34  pitch_type           1097038 non-null  object \n",
      " 35  pitch_call           1097038 non-null  object \n",
      " 36  pitch_id             1097038 non-null  object \n",
      " 37  is_swing             1097038 non-null  int64  \n",
      "dtypes: float64(20), int64(6), object(12)\n",
      "memory usage: 318.1+ MB\n"
     ]
    }
   ],
   "source": [
    "train_df.info()"
   ]
  },
  {
   "cell_type": "code",
   "execution_count": 23,
   "metadata": {},
   "outputs": [],
   "source": [
    "train_df.to_csv('../Data/model_data.csv')"
   ]
  },
  {
   "cell_type": "markdown",
   "metadata": {},
   "source": [
    "# Predictive Modeling"
   ]
  },
  {
   "cell_type": "markdown",
   "metadata": {},
   "source": [
    "Now that our data set clean and how we want it, we can get into some predictive modeling. Seeing as this is a binary classification problem, we'll need to use a classification algorithm. I'm choosing to use gradient boosting here because I've used it in the past and have gotten good results with it in a timely manner. Logistic regression would be faster, but would give us a less accurate model than a gradient boosting model. Getting dummy variables for some of the categorical variables would be good for modeling. It will allow us to see how much importance was placed on these features by the model."
   ]
  },
  {
   "cell_type": "markdown",
   "metadata": {},
   "source": [
    "I'm going to do the hyperparameter tuning in its own dedicated notebook, then load the trained model into this notebook after it's been fitted with all the correct hyperparameters."
   ]
  },
  {
   "cell_type": "code",
   "execution_count": 24,
   "metadata": {},
   "outputs": [
    {
     "name": "stdout",
     "output_type": "stream",
     "text": [
      "<class 'pandas.core.frame.DataFrame'>\n",
      "Int64Index: 932482 entries, 24948 to 541457\n",
      "Data columns (total 42 columns):\n",
      " #   Column               Non-Null Count   Dtype  \n",
      "---  ------               --------------   -----  \n",
      " 0   inning               932482 non-null  int64  \n",
      " 1   top_bottom           932482 non-null  int64  \n",
      " 2   outs                 932482 non-null  float64\n",
      " 3   balls                932482 non-null  int64  \n",
      " 4   strikes              932482 non-null  int64  \n",
      " 5   release_speed        932482 non-null  float64\n",
      " 6   vert_release_angle   932482 non-null  float64\n",
      " 7   horz_release_angle   932482 non-null  float64\n",
      " 8   spin_rate            932482 non-null  float64\n",
      " 9   spin_axis            932482 non-null  float64\n",
      " 10  tilt                 932482 non-null  float64\n",
      " 11  rel_height           932482 non-null  float64\n",
      " 12  rel_side             932482 non-null  float64\n",
      " 13  extension            932482 non-null  float64\n",
      " 14  vert_break           932482 non-null  float64\n",
      " 15  induced_vert_break   932482 non-null  float64\n",
      " 16  horz_break           932482 non-null  float64\n",
      " 17  plate_height         932482 non-null  float64\n",
      " 18  plate_side           932482 non-null  float64\n",
      " 19  zone_speed           932482 non-null  float64\n",
      " 20  vert_approach_angle  932482 non-null  float64\n",
      " 21  horz_approach_angle  932482 non-null  float64\n",
      " 22  x55                  932482 non-null  float64\n",
      " 23  y55                  932482 non-null  int64  \n",
      " 24  z55                  932482 non-null  float64\n",
      " 25  level_A              932482 non-null  int64  \n",
      " 26  level_A+             932482 non-null  int64  \n",
      " 27  level_AA             932482 non-null  int64  \n",
      " 28  level_AAA            932482 non-null  int64  \n",
      " 29  level_MLB            932482 non-null  int64  \n",
      " 30  pitcher_Left         932482 non-null  int64  \n",
      " 31  pitcher_Right        932482 non-null  int64  \n",
      " 32  pitcher_S            932482 non-null  int64  \n",
      " 33  batter_Left          932482 non-null  int64  \n",
      " 34  batter_Right         932482 non-null  int64  \n",
      " 35  batter_S             932482 non-null  int64  \n",
      " 36  is_CH                932482 non-null  int64  \n",
      " 37  is_CU                932482 non-null  int64  \n",
      " 38  is_FA                932482 non-null  int64  \n",
      " 39  is_KN                932482 non-null  int64  \n",
      " 40  is_SI                932482 non-null  int64  \n",
      " 41  is_SL                932482 non-null  int64  \n",
      "dtypes: float64(20), int64(22)\n",
      "memory usage: 305.9 MB\n"
     ]
    }
   ],
   "source": [
    "X = train_df.drop(['pitcher_id', 'batter_id', 'stadium_id', 'umpire_id', 'catcher_id', 'pitch_call', 'is_swing', 'pitch_id', 'date'], axis=1)\n",
    "y = train_df['is_swing']\n",
    "\n",
    "X_train, X_valid, y_train, y_valid = train_test_split(X, y, stratify=y, random_state=11, test_size=.15)\n",
    "\n",
    "X_train = pd.get_dummies(X_train, prefix=['level', 'pitcher', 'batter', 'is'], columns=['level', 'pitcher_side', 'batter_side', 'pitch_type'], dtype='int64')\n",
    "X_valid = pd.get_dummies(X_valid, prefix=['level', 'pitcher', 'batter', 'is'], columns=['level', 'pitcher_side', 'batter_side', 'pitch_type'], dtype='int64')\n",
    "\n",
    "X_train.info()"
   ]
  },
  {
   "cell_type": "markdown",
   "metadata": {},
   "source": [
    "Now that we have our modeling dataset, let's get into modeling the data. Take a look at a few base machine learning models. I chose LogisticRegression, RandomForestClassifier, KNeighborsClassifier, and finally a Gradient Boosting Classifier. Whichever model comes out on top, we'll take that and do some hyperparameter tuning in the \"Mariners Machine Learning Model\" notebook to make the machine learning algorithm even better."
   ]
  },
  {
   "cell_type": "markdown",
   "metadata": {},
   "source": [
    "Starting with the simple Logistic Regression model:"
   ]
  },
  {
   "cell_type": "code",
   "execution_count": 25,
   "metadata": {},
   "outputs": [
    {
     "name": "stdout",
     "output_type": "stream",
     "text": [
      "0.5801216538228083\n",
      "0.5799910061012664\n"
     ]
    }
   ],
   "source": [
    "logreg = LogisticRegression(random_state=34, max_iter=10000)\n",
    "logreg.fit(X_train, y_train)\n",
    "print(logreg.score(X_train, y_train))\n",
    "print(logreg.score(X_valid, y_valid))"
   ]
  },
  {
   "cell_type": "markdown",
   "metadata": {},
   "source": [
    "Not a good model at all. No signs of overfitting which is good, but only 50% accuracy is not good at all. Let's move on to a model that's usually pretty good, Random Forest."
   ]
  },
  {
   "cell_type": "code",
   "execution_count": 26,
   "metadata": {},
   "outputs": [
    {
     "name": "stdout",
     "output_type": "stream",
     "text": [
      "0.9999978551864808\n",
      "0.7768662339872141\n"
     ]
    }
   ],
   "source": [
    "rnd_clf = RandomForestClassifier(random_state=34)\n",
    "rnd_clf.fit(X_train, y_train)\n",
    "print(rnd_clf.score(X_train, y_train))\n",
    "print(rnd_clf.score(X_valid, y_valid))"
   ]
  },
  {
   "cell_type": "markdown",
   "metadata": {},
   "source": [
    "Lots of overfitting here. The model does a really good job on the training data, but not nearly as well on data it's never seen before. Let's next take a look at a K-Nearest Neighbors Classifier."
   ]
  },
  {
   "cell_type": "code",
   "execution_count": 27,
   "metadata": {},
   "outputs": [
    {
     "name": "stdout",
     "output_type": "stream",
     "text": [
      "0.716581124354143\n",
      "0.5425994798123435\n"
     ]
    }
   ],
   "source": [
    "knn_clf = KNeighborsClassifier()\n",
    "knn_clf.fit(X_train, y_train)\n",
    "print(knn_clf.score(X_train, y_train))\n",
    "print(knn_clf.score(X_valid, y_valid))"
   ]
  },
  {
   "cell_type": "markdown",
   "metadata": {},
   "source": [
    "Not the best. Some overfitting here for sure. Unfortunately the validation score isn't very good at all, let's move on to the XGBoost Classifier to see if we get better results."
   ]
  },
  {
   "cell_type": "code",
   "execution_count": 28,
   "metadata": {},
   "outputs": [
    {
     "name": "stdout",
     "output_type": "stream",
     "text": [
      "0.7705789495132346\n",
      "0.7675806412406718\n"
     ]
    }
   ],
   "source": [
    "xgb = XGBClassifier(seed=34)\n",
    "xgb.fit(X_train, y_train)\n",
    "print(xgb.score(X_train, y_train))\n",
    "print(xgb.score(X_valid, y_valid))"
   ]
  },
  {
   "cell_type": "markdown",
   "metadata": {},
   "source": [
    "Pretty similar to the Random Forest validation score, but without the overfitting. Looks like we'll use the Extreme Gradient Boosting model as our machine learning algorithm of choice to do some hyperparameter tuning."
   ]
  },
  {
   "cell_type": "markdown",
   "metadata": {},
   "source": [
    "First we'll make predictions on our validation set to get some metrics on how the base model performs."
   ]
  },
  {
   "cell_type": "code",
   "execution_count": 29,
   "metadata": {},
   "outputs": [
    {
     "name": "stdout",
     "output_type": "stream",
     "text": [
      "Base XGB Classifier Test Accuracy: 76.76\n",
      "Base XGB Classifier Classification Report\n",
      "              precision    recall  f1-score   support\n",
      "\n",
      "           0       0.79      0.76      0.78     87779\n",
      "           1       0.74      0.77      0.76     76777\n",
      "\n",
      "    accuracy                           0.77    164556\n",
      "   macro avg       0.77      0.77      0.77    164556\n",
      "weighted avg       0.77      0.77      0.77    164556\n",
      "\n",
      "\n",
      "\n",
      "Base XGB Classifier MCC Score: 0.5347105189212402\n"
     ]
    },
    {
     "data": {
      "image/png": "[encoded data removed]",
      "text/plain": [
       "<Figure size 864x648 with 1 Axes>"
      ]
     },
     "metadata": {
      "needs_background": "light"
     },
     "output_type": "display_data"
    },
    {
     "name": "stdout",
     "output_type": "stream",
     "text": [
      "Base XGB Classifier AUC Score: 0.8284510547471416\n"
     ]
    }
   ],
   "source": [
    "xgb_base_pred = xgb.predict(X_valid)\n",
    "\n",
    "print(f'Base XGB Classifier Test Accuracy: {round(accuracy_score(y_valid, xgb_base_pred) * 100, 2)}')\n",
    "print('Base XGB Classifier Classification Report')\n",
    "print(classification_report(y_valid, xgb_base_pred))\n",
    "print('\\n')\n",
    "print(f'Base XGB Classifier MCC Score: {matthews_corrcoef(y_valid, xgb_base_pred)}')\n",
    "\n",
    "xgb_probs = xgb.predict_proba(X_valid)\n",
    "xgb_probs = xgb_probs[:, 1]\n",
    "\n",
    "xgb_precision, xgb_recall, _ = precision_recall_curve(y_valid, xgb_probs)\n",
    "\n",
    "no_skill = len(y_valid[y_valid == 1]) / len(y_valid)\n",
    "plt.figure(figsize=(12,9))\n",
    "plt.plot([0, 1], [no_skill, no_skill], linestyle='--', label='No Skill')\n",
    "plt.plot(xgb_recall, xgb_precision, marker='.', label='Gradient Boosting')\n",
    "plt.title('Precision Recall Curve for a Base XGB Classifier')\n",
    "plt.xlabel('Recall')\n",
    "plt.ylabel('Precision')\n",
    "plt.legend()\n",
    "plt.show()\n",
    "\n",
    "print(f'Base XGB Classifier AUC Score: {auc(xgb_recall, xgb_precision)}')"
   ]
  },
  {
   "cell_type": "markdown",
   "metadata": {},
   "source": [
    "By itself, it's a good model. 77% accuracy and a solid precision/recall on both classes is a good start. As well as a .537 MCC score and very high AUC score. Looks like the base XGBoost is a good starting out point for the hyperparameter tuning we did in the other notebook. Let's load that in and take a look at the same metrics as above."
   ]
  },
  {
   "cell_type": "code",
   "execution_count": 30,
   "metadata": {},
   "outputs": [
    {
     "name": "stdout",
     "output_type": "stream",
     "text": [
      "Tuned XGB Classifier Test Accuracy: 78.96\n",
      "Tuned XGB Classifier Classification Report\n",
      "              precision    recall  f1-score   support\n",
      "\n",
      "           0       0.81      0.79      0.80     87779\n",
      "           1       0.77      0.79      0.78     76777\n",
      "\n",
      "    accuracy                           0.79    164556\n",
      "   macro avg       0.79      0.79      0.79    164556\n",
      "weighted avg       0.79      0.79      0.79    164556\n",
      "\n",
      "\n",
      "\n",
      "Tuned XGB Classifier MCC Score: 0.5782494588877023\n"
     ]
    },
    {
     "data": {
      "image/png": "[encoded data removed]",
      "text/plain": [
       "<Figure size 864x648 with 1 Axes>"
      ]
     },
     "metadata": {
      "needs_background": "light"
     },
     "output_type": "display_data"
    },
    {
     "name": "stdout",
     "output_type": "stream",
     "text": [
      "Tuned XGB Classifier AUC Score: 0.8568927887315549\n"
     ]
    }
   ],
   "source": [
    "tuned_xgb = load('tuned_xgboost_model.pkl')\n",
    "xgb_tuned_pred = tuned_xgb.predict(X_valid)\n",
    "\n",
    "print(f'Tuned XGB Classifier Test Accuracy: {round(accuracy_score(y_valid, xgb_tuned_pred) * 100, 2)}')\n",
    "print('Tuned XGB Classifier Classification Report')\n",
    "print(classification_report(y_valid, xgb_tuned_pred))\n",
    "print('\\n')\n",
    "print(f'Tuned XGB Classifier MCC Score: {matthews_corrcoef(y_valid, xgb_tuned_pred)}')\n",
    "\n",
    "xgb_probs = tuned_xgb.predict_proba(X_valid)\n",
    "xgb_probs = xgb_probs[:, 1]\n",
    "\n",
    "xgb_precision, xgb_recall, _ = precision_recall_curve(y_valid, xgb_probs)\n",
    "\n",
    "no_skill = len(y_valid[y_valid == 1]) / len(y_valid)\n",
    "plt.figure(figsize=(12,9))\n",
    "plt.plot([0, 1], [no_skill, no_skill], linestyle='--', label='No Skill')\n",
    "plt.plot(xgb_recall, xgb_precision, marker='.', label='Gradient Boosting')\n",
    "plt.title('Precision Recall Curve for a Tuned XGB Classifier')\n",
    "plt.xlabel('Recall')\n",
    "plt.ylabel('Precision')\n",
    "plt.legend()\n",
    "plt.show()\n",
    "\n",
    "print(f'Tuned XGB Classifier AUC Score: {auc(xgb_recall, xgb_precision)}')"
   ]
  },
  {
   "cell_type": "markdown",
   "metadata": {},
   "source": [
    "Definitely did better. We see a 2.2 point increase in accuracy, and all the other metrics we're looking at have gone up as well. MCC score has risen as well as the AUC score, which are both signs that we have a better tuned model. While they haven't risen a lot, the hyperparameter tuning we did in the other notebook has had a noticeable effect on our prediction power.\n",
    "\n",
    "Something that would be interesting to look at is the feature importances of our model. This tells us how important each variable in making the predictions on the \"is_swing\" column."
   ]
  },
  {
   "cell_type": "code",
   "execution_count": 31,
   "metadata": {},
   "outputs": [
    {
     "data": {
      "image/png": "[encoded data removed]",
      "text/plain": [
       "<Figure size 1296x720 with 1 Axes>"
      ]
     },
     "metadata": {
      "needs_background": "light"
     },
     "output_type": "display_data"
    }
   ],
   "source": [
    "feature_importances = pd.DataFrame(pd.Series(tuned_xgb.feature_importances_), columns=['Importance'])\n",
    "feature_importances.index = X_train.columns\n",
    "feature_importances = feature_importances.sort_values('Importance')\n",
    "\n",
    "plt.figure(figsize=(18,10))\n",
    "plt.barh(feature_importances.index, width=feature_importances['Importance'] * 100, color='r')\n",
    "plt.title(\"Gradient Boosting Feature Importances (%)\")\n",
    "plt.xlabel('Percentage Importance')\n",
    "plt.show()"
   ]
  },
  {
   "cell_type": "markdown",
   "metadata": {},
   "source": [
    "Very interesting. Apparently the strike count is the most important feature, with where the ball is located, both plate height and side, coming right behind it. Strikes being the most important feature isn't surprising. Batters are more likely to swing with 2 strikes, while being a little bit more picky about the pitches they swing at with no strikes or 1 strike in the count. With 2 strikes, they feel like they need to protect the plate and keep the at-bat alive so they have another chance of putting the ball in play and getting a hit."
   ]
  },
  {
   "cell_type": "markdown",
   "metadata": {},
   "source": [
    "## Making predictions on test set"
   ]
  },
  {
   "cell_type": "markdown",
   "metadata": {},
   "source": [
    "We have a good model trained, now we can make predictions on the testing set. First we need to load it in and clean it the way we cleaned the training set."
   ]
  },
  {
   "cell_type": "code",
   "execution_count": 32,
   "metadata": {},
   "outputs": [
    {
     "data": {
      "text/plain": [
       "date                        0\n",
       "level                       0\n",
       "pitcher_id                  0\n",
       "pitcher_side                0\n",
       "batter_id                   0\n",
       "batter_side                 0\n",
       "stadium_id                  0\n",
       "umpire_id                   0\n",
       "catcher_id                  0\n",
       "inning                      0\n",
       "top_bottom                  0\n",
       "outs                        0\n",
       "balls                       0\n",
       "strikes                     0\n",
       "release_speed               0\n",
       "vert_release_angle          0\n",
       "horz_release_angle          0\n",
       "spin_rate                6397\n",
       "spin_axis                   0\n",
       "tilt                      195\n",
       "rel_height                  0\n",
       "rel_side                    0\n",
       "extension                   0\n",
       "vert_break                  0\n",
       "induced_vert_break          0\n",
       "horz_break                  0\n",
       "plate_height               51\n",
       "plate_side                 51\n",
       "zone_speed                  0\n",
       "vert_approach_angle         0\n",
       "horz_approach_angle         0\n",
       "x55                         0\n",
       "y55                         0\n",
       "z55                         0\n",
       "pitch_type                191\n",
       "pitch_id                    0\n",
       "is_swing               370283\n",
       "dtype: int64"
      ]
     },
     "execution_count": 32,
     "metadata": {},
     "output_type": "execute_result"
    }
   ],
   "source": [
    "test_df = pd.read_csv('../Data/2021-test.csv')\n",
    "\n",
    "test_df.isnull().sum()"
   ]
  },
  {
   "cell_type": "code",
   "execution_count": 33,
   "metadata": {},
   "outputs": [],
   "source": [
    "def clean_and_wrangle(df):\n",
    "    \n",
    "    df['spin_rate'] = df['spin_rate'].fillna(df['spin_rate'].mean())\n",
    "    df = df.drop(df[df['pitch_type'].isnull()].index)\n",
    "    df['plate_height'] = df['plate_height'].fillna(df['plate_height'].mean())\n",
    "    df['plate_side'] = df['plate_side'].fillna(df['plate_side'].mean())\n",
    "    df = df.reset_index().drop('index', axis=1)\n",
    "    \n",
    "    df['tilt'] = df['tilt'].map(lambda x: sum(a*int(t) for a, t in zip([3600, 60], x.split(':'))) if pd.notnull(x) and ':' in x \\\n",
    "                                        else (int(x[:-5]) if pd.notnull(x) else x))\n",
    "    \n",
    "    df['tilt'] = df['tilt'].fillna(df['tilt'].median())\n",
    "\n",
    "    return df"
   ]
  },
  {
   "cell_type": "code",
   "execution_count": 34,
   "metadata": {},
   "outputs": [
    {
     "name": "stdout",
     "output_type": "stream",
     "text": [
      "<class 'pandas.core.frame.DataFrame'>\n",
      "RangeIndex: 370092 entries, 0 to 370091\n",
      "Data columns (total 37 columns):\n",
      " #   Column               Non-Null Count   Dtype  \n",
      "---  ------               --------------   -----  \n",
      " 0   date                 370092 non-null  object \n",
      " 1   level                370092 non-null  object \n",
      " 2   pitcher_id           370092 non-null  object \n",
      " 3   pitcher_side         370092 non-null  object \n",
      " 4   batter_id            370092 non-null  object \n",
      " 5   batter_side          370092 non-null  object \n",
      " 6   stadium_id           370092 non-null  object \n",
      " 7   umpire_id            370092 non-null  object \n",
      " 8   catcher_id           370092 non-null  object \n",
      " 9   inning               370092 non-null  int64  \n",
      " 10  top_bottom           370092 non-null  int64  \n",
      " 11  outs                 370092 non-null  int64  \n",
      " 12  balls                370092 non-null  int64  \n",
      " 13  strikes              370092 non-null  int64  \n",
      " 14  release_speed        370092 non-null  float64\n",
      " 15  vert_release_angle   370092 non-null  float64\n",
      " 16  horz_release_angle   370092 non-null  float64\n",
      " 17  spin_rate            370092 non-null  float64\n",
      " 18  spin_axis            370092 non-null  float64\n",
      " 19  tilt                 370092 non-null  float64\n",
      " 20  rel_height           370092 non-null  float64\n",
      " 21  rel_side             370092 non-null  float64\n",
      " 22  extension            370092 non-null  float64\n",
      " 23  vert_break           370092 non-null  float64\n",
      " 24  induced_vert_break   370092 non-null  float64\n",
      " 25  horz_break           370092 non-null  float64\n",
      " 26  plate_height         370092 non-null  float64\n",
      " 27  plate_side           370092 non-null  float64\n",
      " 28  zone_speed           370092 non-null  float64\n",
      " 29  vert_approach_angle  370092 non-null  float64\n",
      " 30  horz_approach_angle  370092 non-null  float64\n",
      " 31  x55                  370092 non-null  float64\n",
      " 32  y55                  370092 non-null  int64  \n",
      " 33  z55                  370092 non-null  float64\n",
      " 34  pitch_type           370092 non-null  object \n",
      " 35  pitch_id             370092 non-null  object \n",
      " 36  is_swing             0 non-null       float64\n",
      "dtypes: float64(20), int64(6), object(11)\n",
      "memory usage: 104.5+ MB\n"
     ]
    }
   ],
   "source": [
    "test_df = clean_and_wrangle(test_df)\n",
    "\n",
    "test_df.info()"
   ]
  },
  {
   "cell_type": "markdown",
   "metadata": {},
   "source": [
    "No null values (except our target variable \"is_strike\"). We'll use our trained model from up above and make predictions on the entire testing set and insert those predictions into the data set."
   ]
  },
  {
   "cell_type": "code",
   "execution_count": 35,
   "metadata": {},
   "outputs": [],
   "source": [
    "X = test_df.drop(['pitcher_id', 'batter_id', 'stadium_id', 'umpire_id', 'catcher_id', 'is_swing', 'pitch_id', 'date'], axis=1)\n",
    "\n",
    "X = pd.get_dummies(X, prefix=['level', 'pitcher', 'batter', 'is'], columns=['level', 'pitcher_side', 'batter_side', 'pitch_type'], dtype='int64')"
   ]
  },
  {
   "cell_type": "code",
   "execution_count": 36,
   "metadata": {},
   "outputs": [
    {
     "data": {
      "text/html": [
       "<div>\n",
       "<style scoped>\n",
       "    .dataframe tbody tr th:only-of-type {\n",
       "        vertical-align: middle;\n",
       "    }\n",
       "\n",
       "    .dataframe tbody tr th {\n",
       "        vertical-align: top;\n",
       "    }\n",
       "\n",
       "    .dataframe thead th {\n",
       "        text-align: right;\n",
       "    }\n",
       "</style>\n",
       "<table border=\"1\" class=\"dataframe\">\n",
       "  <thead>\n",
       "    <tr style=\"text-align: right;\">\n",
       "      <th></th>\n",
       "      <th>date</th>\n",
       "      <th>level</th>\n",
       "      <th>pitcher_id</th>\n",
       "      <th>pitcher_side</th>\n",
       "      <th>batter_id</th>\n",
       "      <th>batter_side</th>\n",
       "      <th>stadium_id</th>\n",
       "      <th>umpire_id</th>\n",
       "      <th>catcher_id</th>\n",
       "      <th>inning</th>\n",
       "      <th>...</th>\n",
       "      <th>plate_side</th>\n",
       "      <th>zone_speed</th>\n",
       "      <th>vert_approach_angle</th>\n",
       "      <th>horz_approach_angle</th>\n",
       "      <th>x55</th>\n",
       "      <th>y55</th>\n",
       "      <th>z55</th>\n",
       "      <th>pitch_type</th>\n",
       "      <th>pitch_id</th>\n",
       "      <th>is_swing</th>\n",
       "    </tr>\n",
       "  </thead>\n",
       "  <tbody>\n",
       "    <tr>\n",
       "      <th>0</th>\n",
       "      <td>2019-07-18</td>\n",
       "      <td>MLB</td>\n",
       "      <td>73a10ae1</td>\n",
       "      <td>Right</td>\n",
       "      <td>193282c0</td>\n",
       "      <td>Left</td>\n",
       "      <td>c9712626</td>\n",
       "      <td>5f8ae81c</td>\n",
       "      <td>a421b54b</td>\n",
       "      <td>8</td>\n",
       "      <td>...</td>\n",
       "      <td>-0.838435</td>\n",
       "      <td>86.057800</td>\n",
       "      <td>-5.08777</td>\n",
       "      <td>-1.114830</td>\n",
       "      <td>-0.643664</td>\n",
       "      <td>55</td>\n",
       "      <td>6.01219</td>\n",
       "      <td>FA</td>\n",
       "      <td>3881a47c</td>\n",
       "      <td>1</td>\n",
       "    </tr>\n",
       "    <tr>\n",
       "      <th>1</th>\n",
       "      <td>2019-07-13</td>\n",
       "      <td>AAA</td>\n",
       "      <td>6bd3ec6f</td>\n",
       "      <td>Left</td>\n",
       "      <td>5698002d</td>\n",
       "      <td>Right</td>\n",
       "      <td>46a1046e</td>\n",
       "      <td>9c6cbb5e</td>\n",
       "      <td>9c6cbb5e</td>\n",
       "      <td>6</td>\n",
       "      <td>...</td>\n",
       "      <td>1.563680</td>\n",
       "      <td>73.719101</td>\n",
       "      <td>-8.59511</td>\n",
       "      <td>6.265450</td>\n",
       "      <td>3.538150</td>\n",
       "      <td>55</td>\n",
       "      <td>6.24963</td>\n",
       "      <td>CU</td>\n",
       "      <td>39dd6dfc</td>\n",
       "      <td>0</td>\n",
       "    </tr>\n",
       "    <tr>\n",
       "      <th>2</th>\n",
       "      <td>2019-07-17</td>\n",
       "      <td>A+</td>\n",
       "      <td>600b75dd</td>\n",
       "      <td>Right</td>\n",
       "      <td>ef1e4ac0</td>\n",
       "      <td>Left</td>\n",
       "      <td>1e3c100c</td>\n",
       "      <td>9c6cbb5e</td>\n",
       "      <td>9c6cbb5e</td>\n",
       "      <td>10</td>\n",
       "      <td>...</td>\n",
       "      <td>2.005520</td>\n",
       "      <td>73.999100</td>\n",
       "      <td>-6.51041</td>\n",
       "      <td>-0.175223</td>\n",
       "      <td>-1.783860</td>\n",
       "      <td>55</td>\n",
       "      <td>5.91202</td>\n",
       "      <td>CU</td>\n",
       "      <td>663d1bbe</td>\n",
       "      <td>0</td>\n",
       "    </tr>\n",
       "    <tr>\n",
       "      <th>3</th>\n",
       "      <td>2019-07-19</td>\n",
       "      <td>AAA</td>\n",
       "      <td>35acb148</td>\n",
       "      <td>Left</td>\n",
       "      <td>357d82e5</td>\n",
       "      <td>Right</td>\n",
       "      <td>66b03ca6</td>\n",
       "      <td>9c6cbb5e</td>\n",
       "      <td>9c6cbb5e</td>\n",
       "      <td>4</td>\n",
       "      <td>...</td>\n",
       "      <td>-0.185987</td>\n",
       "      <td>80.165703</td>\n",
       "      <td>-5.57020</td>\n",
       "      <td>-0.343069</td>\n",
       "      <td>0.951319</td>\n",
       "      <td>55</td>\n",
       "      <td>6.03310</td>\n",
       "      <td>FA</td>\n",
       "      <td>f91e27cd</td>\n",
       "      <td>1</td>\n",
       "    </tr>\n",
       "    <tr>\n",
       "      <th>4</th>\n",
       "      <td>2019-07-03</td>\n",
       "      <td>MLB</td>\n",
       "      <td>ae87a7a4</td>\n",
       "      <td>Right</td>\n",
       "      <td>f7e769f3</td>\n",
       "      <td>Right</td>\n",
       "      <td>a69810e0</td>\n",
       "      <td>77f5f822</td>\n",
       "      <td>8ebd2bf2</td>\n",
       "      <td>5</td>\n",
       "      <td>...</td>\n",
       "      <td>-0.590431</td>\n",
       "      <td>82.306000</td>\n",
       "      <td>-7.51385</td>\n",
       "      <td>-0.385693</td>\n",
       "      <td>-1.368450</td>\n",
       "      <td>55</td>\n",
       "      <td>6.11413</td>\n",
       "      <td>SI</td>\n",
       "      <td>58497823</td>\n",
       "      <td>0</td>\n",
       "    </tr>\n",
       "    <tr>\n",
       "      <th>5</th>\n",
       "      <td>2019-07-06</td>\n",
       "      <td>AA</td>\n",
       "      <td>dd4fb716</td>\n",
       "      <td>Right</td>\n",
       "      <td>99f2b51d</td>\n",
       "      <td>Right</td>\n",
       "      <td>84e57cf4</td>\n",
       "      <td>9c6cbb5e</td>\n",
       "      <td>9c6cbb5e</td>\n",
       "      <td>3</td>\n",
       "      <td>...</td>\n",
       "      <td>0.077814</td>\n",
       "      <td>79.887398</td>\n",
       "      <td>-7.57216</td>\n",
       "      <td>-1.500930</td>\n",
       "      <td>-1.373100</td>\n",
       "      <td>55</td>\n",
       "      <td>6.38914</td>\n",
       "      <td>SL</td>\n",
       "      <td>7d446654</td>\n",
       "      <td>1</td>\n",
       "    </tr>\n",
       "    <tr>\n",
       "      <th>6</th>\n",
       "      <td>2019-07-20</td>\n",
       "      <td>MLB</td>\n",
       "      <td>9600898b</td>\n",
       "      <td>Left</td>\n",
       "      <td>7028bc34</td>\n",
       "      <td>Right</td>\n",
       "      <td>7cfd1ecb</td>\n",
       "      <td>667d5752</td>\n",
       "      <td>e9553a98</td>\n",
       "      <td>6</td>\n",
       "      <td>...</td>\n",
       "      <td>-0.911064</td>\n",
       "      <td>85.352600</td>\n",
       "      <td>-6.17392</td>\n",
       "      <td>0.445947</td>\n",
       "      <td>2.669410</td>\n",
       "      <td>55</td>\n",
       "      <td>5.92422</td>\n",
       "      <td>SI</td>\n",
       "      <td>bac2af8a</td>\n",
       "      <td>0</td>\n",
       "    </tr>\n",
       "    <tr>\n",
       "      <th>7</th>\n",
       "      <td>2019-07-06</td>\n",
       "      <td>AA</td>\n",
       "      <td>6e5500fa</td>\n",
       "      <td>Left</td>\n",
       "      <td>8ab0e5f3</td>\n",
       "      <td>Left</td>\n",
       "      <td>84e57cf4</td>\n",
       "      <td>9c6cbb5e</td>\n",
       "      <td>9c6cbb5e</td>\n",
       "      <td>1</td>\n",
       "      <td>...</td>\n",
       "      <td>0.465729</td>\n",
       "      <td>73.465103</td>\n",
       "      <td>-6.44025</td>\n",
       "      <td>1.760880</td>\n",
       "      <td>0.985060</td>\n",
       "      <td>55</td>\n",
       "      <td>5.59830</td>\n",
       "      <td>SL</td>\n",
       "      <td>ec3747e5</td>\n",
       "      <td>0</td>\n",
       "    </tr>\n",
       "    <tr>\n",
       "      <th>8</th>\n",
       "      <td>2019-07-16</td>\n",
       "      <td>A</td>\n",
       "      <td>e481e50d</td>\n",
       "      <td>Right</td>\n",
       "      <td>2ffc4fe3</td>\n",
       "      <td>Left</td>\n",
       "      <td>9cd73a6f</td>\n",
       "      <td>9c6cbb5e</td>\n",
       "      <td>9c6cbb5e</td>\n",
       "      <td>9</td>\n",
       "      <td>...</td>\n",
       "      <td>1.202160</td>\n",
       "      <td>84.919800</td>\n",
       "      <td>-4.06971</td>\n",
       "      <td>0.895900</td>\n",
       "      <td>-1.224260</td>\n",
       "      <td>55</td>\n",
       "      <td>5.28796</td>\n",
       "      <td>FA</td>\n",
       "      <td>b13c7a11</td>\n",
       "      <td>0</td>\n",
       "    </tr>\n",
       "    <tr>\n",
       "      <th>9</th>\n",
       "      <td>2019-07-16</td>\n",
       "      <td>A</td>\n",
       "      <td>3f0bfa01</td>\n",
       "      <td>Right</td>\n",
       "      <td>bb34853c</td>\n",
       "      <td>Right</td>\n",
       "      <td>9cd73a6f</td>\n",
       "      <td>9c6cbb5e</td>\n",
       "      <td>9c6cbb5e</td>\n",
       "      <td>6</td>\n",
       "      <td>...</td>\n",
       "      <td>-0.949888</td>\n",
       "      <td>76.070801</td>\n",
       "      <td>-8.73282</td>\n",
       "      <td>-2.627950</td>\n",
       "      <td>-0.976320</td>\n",
       "      <td>55</td>\n",
       "      <td>5.97025</td>\n",
       "      <td>SL</td>\n",
       "      <td>8ac06bf0</td>\n",
       "      <td>1</td>\n",
       "    </tr>\n",
       "  </tbody>\n",
       "</table>\n",
       "<p>10 rows × 37 columns</p>\n",
       "</div>"
      ],
      "text/plain": [
       "         date level pitcher_id pitcher_side batter_id batter_side stadium_id  \\\n",
       "0  2019-07-18   MLB   73a10ae1        Right  193282c0        Left   c9712626   \n",
       "1  2019-07-13   AAA   6bd3ec6f         Left  5698002d       Right   46a1046e   \n",
       "2  2019-07-17    A+   600b75dd        Right  ef1e4ac0        Left   1e3c100c   \n",
       "3  2019-07-19   AAA   35acb148         Left  357d82e5       Right   66b03ca6   \n",
       "4  2019-07-03   MLB   ae87a7a4        Right  f7e769f3       Right   a69810e0   \n",
       "5  2019-07-06    AA   dd4fb716        Right  99f2b51d       Right   84e57cf4   \n",
       "6  2019-07-20   MLB   9600898b         Left  7028bc34       Right   7cfd1ecb   \n",
       "7  2019-07-06    AA   6e5500fa         Left  8ab0e5f3        Left   84e57cf4   \n",
       "8  2019-07-16     A   e481e50d        Right  2ffc4fe3        Left   9cd73a6f   \n",
       "9  2019-07-16     A   3f0bfa01        Right  bb34853c       Right   9cd73a6f   \n",
       "\n",
       "  umpire_id catcher_id  inning  ...  plate_side  zone_speed  \\\n",
       "0  5f8ae81c   a421b54b       8  ...   -0.838435   86.057800   \n",
       "1  9c6cbb5e   9c6cbb5e       6  ...    1.563680   73.719101   \n",
       "2  9c6cbb5e   9c6cbb5e      10  ...    2.005520   73.999100   \n",
       "3  9c6cbb5e   9c6cbb5e       4  ...   -0.185987   80.165703   \n",
       "4  77f5f822   8ebd2bf2       5  ...   -0.590431   82.306000   \n",
       "5  9c6cbb5e   9c6cbb5e       3  ...    0.077814   79.887398   \n",
       "6  667d5752   e9553a98       6  ...   -0.911064   85.352600   \n",
       "7  9c6cbb5e   9c6cbb5e       1  ...    0.465729   73.465103   \n",
       "8  9c6cbb5e   9c6cbb5e       9  ...    1.202160   84.919800   \n",
       "9  9c6cbb5e   9c6cbb5e       6  ...   -0.949888   76.070801   \n",
       "\n",
       "   vert_approach_angle  horz_approach_angle       x55  y55      z55  \\\n",
       "0             -5.08777            -1.114830 -0.643664   55  6.01219   \n",
       "1             -8.59511             6.265450  3.538150   55  6.24963   \n",
       "2             -6.51041            -0.175223 -1.783860   55  5.91202   \n",
       "3             -5.57020            -0.343069  0.951319   55  6.03310   \n",
       "4             -7.51385            -0.385693 -1.368450   55  6.11413   \n",
       "5             -7.57216            -1.500930 -1.373100   55  6.38914   \n",
       "6             -6.17392             0.445947  2.669410   55  5.92422   \n",
       "7             -6.44025             1.760880  0.985060   55  5.59830   \n",
       "8             -4.06971             0.895900 -1.224260   55  5.28796   \n",
       "9             -8.73282            -2.627950 -0.976320   55  5.97025   \n",
       "\n",
       "   pitch_type  pitch_id  is_swing  \n",
       "0          FA  3881a47c         1  \n",
       "1          CU  39dd6dfc         0  \n",
       "2          CU  663d1bbe         0  \n",
       "3          FA  f91e27cd         1  \n",
       "4          SI  58497823         0  \n",
       "5          SL  7d446654         1  \n",
       "6          SI  bac2af8a         0  \n",
       "7          SL  ec3747e5         0  \n",
       "8          FA  b13c7a11         0  \n",
       "9          SL  8ac06bf0         1  \n",
       "\n",
       "[10 rows x 37 columns]"
      ]
     },
     "execution_count": 36,
     "metadata": {},
     "output_type": "execute_result"
    }
   ],
   "source": [
    "predictions = tuned_xgb.predict(X)\n",
    "\n",
    "test_df['is_swing'] = predictions\n",
    "test_df.head(10)"
   ]
  },
  {
   "cell_type": "code",
   "execution_count": 37,
   "metadata": {},
   "outputs": [],
   "source": [
    "test_df[['pitch_id','is_swing']].to_csv('../Data/predicted_test_set.csv')"
   ]
  },
  {
   "cell_type": "markdown",
   "metadata": {},
   "source": [
    "# Conclusion"
   ]
  },
  {
   "cell_type": "markdown",
   "metadata": {},
   "source": [
    "Overall we created a good model to predict whether a batter is going to swing at a certain pitch or not. We started off by cleaning the data set and making sure that no null values were in the table. Next we had to create the target variable from a column that already existed in the data set. Finally had to wrangle some data to get it all in the correct format to be suitable to run a machine learning model on. Using gradient boosting, tuned a number of hyperparameters, and made predictions on the full training set. After making predictions, we needed to make sure the model was performing well, and took a look at a number of different metrics for model performance. Accuracy, the classification report, AUC score, and Matthew's Correlation Coefficient all agreed that this model we built was well suited for predicting if a hitter was going to swing. We also took a look at some of the feature importances for our model, with number of strikes in the count coming out on top as the most important feature, followed up by plate side and plate height, then numbers of balls in the count.\n",
    "\n",
    "If I had more time and resources to dedicate to this project, I would have tuned some more of the XGBoost hyperparameters to make this model even more accurate. Having only tuned three parameters, there could be some more room for improvement, but the time it could have taken to do so may have outweighed the gains produce by finding more optimal parameters. I also would have expanded the search of the optimal parameters. One of the hyperparameters was found at the bounds of what I set to search for, so by changing the bounds, I could have found a better hyperparameter for the model. Another thing I would have tried was ensemble learning. Training a few different types of models on this dataset (logistic regression, xgboost, random forest, K-neighbors), then putting those models into a voting classifier could potentially give us a more accurate model to make predictions with. Finally, I would have liked to use a Randomized Grid Search or Bayesian Optimization to find better hyperparameters. This would have given the model a chance to settle on more optimal hyperparameters than the ones I had it search through, giving us a better model overall."
   ]
  }
 ],
 "metadata": {
  "celltoolbar": "Raw Cell Format",
  "kernelspec": {
   "display_name": "Python 3",
   "language": "python",
   "name": "python3"
  },
  "language_info": {
   "codemirror_mode": {
    "name": "ipython",
    "version": 3
   },
   "file_extension": ".py",
   "mimetype": "text/x-python",
   "name": "python",
   "nbconvert_exporter": "python",
   "pygments_lexer": "ipython3",
   "version": "3.7.9"
  }
 },
 "nbformat": 4,
 "nbformat_minor": 4
}
